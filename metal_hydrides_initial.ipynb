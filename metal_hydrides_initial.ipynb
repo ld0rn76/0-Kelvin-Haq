{
 "cells": [
  {
   "cell_type": "markdown",
   "metadata": {},
   "source": [
    "# Density Matrix Embedding Theory (DMET)"
   ]
  },
  {
   "cell_type": "code",
   "execution_count": 21,
   "metadata": {},
   "outputs": [],
   "source": [
    "# Installation of tangelo if not already installed.\n",
    "try:\n",
    "    import tangelo\n",
    "except ModuleNotFoundError:\n",
    "    !pip install git+https://github.com/goodchemistryco/Tangelo.git@develop --quiet\n",
    "    !pip install qulacs pyscf --quiet"
   ]
  },
  {
   "cell_type": "markdown",
   "metadata": {},
   "source": [
    "## DMET-CCSD on $CaH_2, MgH_2, PbH_2$ <a class=\"anchor\" id=\"3\"></a>\n",
    "\n",
    "Before we proceed, let's import all the relevant data-structures and classes from `tangelo`:"
   ]
  },
  {
   "cell_type": "code",
   "execution_count": 22,
   "metadata": {},
   "outputs": [],
   "source": [
    "import json\n",
    "from tangelo import SecondQuantizedMolecule\n",
    "from tangelo.problem_decomposition import DMETProblemDecomposition\n",
    "from tangelo.problem_decomposition.dmet import Localization\n",
    "from tangelo.algorithms import VQESolver\n",
    "from tangelo.algorithms import FCISolver"
   ]
  },
  {
   "cell_type": "code",
   "execution_count": 77,
   "metadata": {},
   "outputs": [],
   "source": [
    "#approximate CaH2 structure by taking the CaH bond lengths (2.003 Angstroms) and assume linear geometry\n",
    "cah2 = \"\"\"\n",
    "Ca   0.0  0.0  0.0\n",
    "H   0.0  0.0  -2.003\n",
    "H   0.0  0.0  2.003\n",
    "\"\"\"\n",
    "mol_cah2 = SecondQuantizedMolecule(cah2, q=0, spin=0, basis=\"minao\")\n",
    "\n",
    "#approximate MgH2 structure by taking the MgH bond lengths (1.730 Angstroms) and assume linear geometry\n",
    "mgh2 = \"\"\"\n",
    "Mg   0.0  0.0  0.0\n",
    "H   0.0  0.0  -1.730\n",
    "H   0.0  0.0  1.730\n",
    "\"\"\"\n",
    "mol_mgh2 = SecondQuantizedMolecule(mgh2, q=0, spin=0, basis=\"minao\")\n",
    "\n",
    "# pbh2 = \"\"\"\n",
    "# Pb   0.0  0.0  0.0\n",
    "# H   0.0  0.0  -1.81\n",
    "# H   0.0  0.0  1.81\n",
    "# \"\"\"\n",
    "# mol_pbh2 = SecondQuantizedMolecule(pbh2, q=0, spin=0, basis=\"minao\", frozen_orbitals=[0, 1, 2, 3, 4])"
   ]
  },
  {
   "cell_type": "code",
   "execution_count": 70,
   "metadata": {},
   "outputs": [],
   "source": [
    "# Fragment definition = [1, 1, 1] to optimize computation resources, i.e. simulate each atom separately.\n",
    "\n",
    "def DMET_energy(second_quantized_molecule):\n",
    "    options_dmet = {\"molecule\": second_quantized_molecule,\n",
    "                           \"fragment_atoms\": [1,1,1],\n",
    "                           \"fragment_solvers\": \"ccsd\",\n",
    "                           \"verbose\": True\n",
    "                           }\n",
    "    \n",
    "    dmet = DMETProblemDecomposition(options_dmet)\n",
    "    dmet.build()\n",
    "    energy_dmet = dmet.simulate()\n",
    "    print(f\"DMET energy (hartree): \\t {energy_dmet}\")\n",
    "    \n",
    "    ###correlation energy calculation###\n",
    "    energy_hf = dmet.mean_field.e_tot\n",
    "    energy_corr = abs(energy_dmet - energy_hf)\n",
    "    print(f\"Correlation energy (hartree): \\t {energy_corr}\")\n",
    "    # print(f\"Correlation energy (kcal/mol): \\t {627.5*energy_corr_butane}\")"
   ]
  },
  {
   "cell_type": "code",
   "execution_count": 78,
   "metadata": {},
   "outputs": [
    {
     "name": "stdout",
     "output_type": "stream",
     "text": [
      " \tIteration =  1\n",
      " \t----------------\n",
      " \n",
      "\tSCF Occupancy Eigenvalues for Fragment Number : # 0\n",
      "\t[1.14672994 2.        ]\n",
      "\n",
      "\tSCF Occupancy Eigenvalues for Fragment Number : # 1\n",
      "\t[0.42663503 2.         2.         2.         2.         2.\n",
      " 2.        ]\n",
      "\n",
      "\tSCF Occupancy Eigenvalues for Fragment Number : # 2\n",
      "\t[0.42663503 2.         2.         2.         2.         2.\n",
      " 2.        ]\n",
      "\n",
      "\t\tFragment Number : #  1\n",
      "\t\t------------------------\n",
      "\t\tFragment Energy = -200.9194859765619\n",
      "\t\tNumber of Electrons in Fragment = 10.85885109054493\n",
      "\t\tFragment Number : #  2\n",
      "\t\t------------------------\n",
      "\t\tFragment Energy = -3.4899414069314623\n",
      "\t\tNumber of Electrons in Fragment = 1.5004602408552907\n",
      "\t\tFragment Number : #  3\n",
      "\t\t------------------------\n",
      "\t\tFragment Energy = -3.4899414069314694\n",
      "\t\tNumber of Electrons in Fragment = 1.5004602408552934\n",
      " \tIteration =  2\n",
      " \t----------------\n",
      " \n",
      "\tSCF Occupancy Eigenvalues for Fragment Number : # 0\n",
      "\t[1.14672994 2.        ]\n",
      "\n",
      "\tSCF Occupancy Eigenvalues for Fragment Number : # 1\n",
      "\t[0.42663503 2.         2.         2.         2.         2.\n",
      " 2.        ]\n",
      "\n",
      "\tSCF Occupancy Eigenvalues for Fragment Number : # 2\n",
      "\t[0.42663503 2.         2.         2.         2.         2.\n",
      " 2.        ]\n",
      "\n",
      "\t\tFragment Number : #  1\n",
      "\t\t------------------------\n",
      "\t\tFragment Energy = -200.91991232843304\n",
      "\t\tNumber of Electrons in Fragment = 10.85905964315771\n",
      "\t\tFragment Number : #  2\n",
      "\t\t------------------------\n",
      "\t\tFragment Energy = -3.490283928943666\n",
      "\t\tNumber of Electrons in Fragment = 1.500637918913321\n",
      "\t\tFragment Number : #  3\n",
      "\t\t------------------------\n",
      "\t\tFragment Energy = -3.490283928943673\n",
      "\t\tNumber of Electrons in Fragment = 1.5006379189133237\n",
      " \tIteration =  3\n",
      " \t----------------\n",
      " \n",
      "\tSCF Occupancy Eigenvalues for Fragment Number : # 0\n",
      "\t[1.14672994 2.        ]\n",
      "\n",
      "\tSCF Occupancy Eigenvalues for Fragment Number : # 1\n",
      "\t[0.42663503 2.         2.         2.         2.         2.\n",
      " 2.        ]\n",
      "\n",
      "\tSCF Occupancy Eigenvalues for Fragment Number : # 2\n",
      "\t[0.42663503 2.         2.         2.         2.         2.\n",
      " 2.        ]\n",
      "\n",
      "\t\tFragment Number : #  1\n",
      "\t\t------------------------\n",
      "\t\tFragment Energy = -201.02606600667\n",
      "\t\tNumber of Electrons in Fragment = 10.91107078721481\n",
      "\t\tFragment Number : #  2\n",
      "\t\t------------------------\n",
      "\t\tFragment Energy = -3.5732096313336\n",
      "\t\tNumber of Electrons in Fragment = 1.5438444824406978\n",
      "\t\tFragment Number : #  3\n",
      "\t\t------------------------\n",
      "\t\tFragment Energy = -3.5732096313336097\n",
      "\t\tNumber of Electrons in Fragment = 1.543844482440702\n",
      " \tIteration =  4\n",
      " \t----------------\n",
      " \n",
      "\tSCF Occupancy Eigenvalues for Fragment Number : # 0\n",
      "\t[1.14672994 2.        ]\n",
      "\n",
      "\tSCF Occupancy Eigenvalues for Fragment Number : # 1\n",
      "\t[0.42663503 2.         2.         2.         2.         2.\n",
      " 2.        ]\n",
      "\n",
      "\tSCF Occupancy Eigenvalues for Fragment Number : # 2\n",
      "\t[0.42663503 2.         2.         2.         2.         2.\n",
      " 2.        ]\n",
      "\n",
      "\t\tFragment Number : #  1\n",
      "\t\t------------------------\n",
      "\t\tFragment Energy = -201.0270215124192\n",
      "\t\tNumber of Electrons in Fragment = 10.911539717160528\n",
      "\t\tFragment Number : #  2\n",
      "\t\t------------------------\n",
      "\t\tFragment Energy = -3.573933721881717\n",
      "\t\tNumber of Electrons in Fragment = 1.544223451859472\n",
      "\t\tFragment Number : #  3\n",
      "\t\t------------------------\n",
      "\t\tFragment Energy = -3.5739337218822484\n",
      "\t\tNumber of Electrons in Fragment = 1.5442234518597502\n",
      " \tIteration =  5\n",
      " \t----------------\n",
      " \n",
      "\tSCF Occupancy Eigenvalues for Fragment Number : # 0\n",
      "\t[1.14672994 2.        ]\n",
      "\n",
      "\tSCF Occupancy Eigenvalues for Fragment Number : # 1\n",
      "\t[0.42663503 2.         2.         2.         2.         2.\n",
      " 2.        ]\n",
      "\n",
      "\tSCF Occupancy Eigenvalues for Fragment Number : # 2\n",
      "\t[0.42663503 2.         2.         2.         2.         2.\n",
      " 2.        ]\n",
      "\n",
      "\t\tFragment Number : #  1\n",
      "\t\t------------------------\n",
      "\t\tFragment Energy = -201.02703193267544\n",
      "\t\tNumber of Electrons in Fragment = 10.911544831145731\n",
      "\t\tFragment Number : #  2\n",
      "\t\t------------------------\n",
      "\t\tFragment Energy = -3.573941616149555\n",
      "\t\tNumber of Electrons in Fragment = 1.5442275836711203\n",
      "\t\tFragment Number : #  3\n",
      "\t\t------------------------\n",
      "\t\tFragment Energy = -3.573941616149964\n",
      "\t\tNumber of Electrons in Fragment = 1.544227583671334\n",
      " \t*** DMET Cycle Done *** \n",
      " \tDMET Energy ( a.u. ) =   -200.6807870334\n",
      " \tChemical Potential   =      0.0250915408\n",
      "DMET energy (hartree): \t -200.68078703344895\n",
      "Correlation energy (hartree): \t 0.02733828100949154\n"
     ]
    }
   ],
   "source": [
    "DMET_energy(mol_mgh2)"
   ]
  },
  {
   "cell_type": "markdown",
   "metadata": {},
   "source": [
    "## Comparison with FCI, CCSD"
   ]
  },
  {
   "cell_type": "code",
   "execution_count": null,
   "metadata": {},
   "outputs": [],
   "source": [
    "try:\n",
    "    import tangelo\n",
    "except ModuleNotFoundError:\n",
    "    !pip install git+https://github.com/goodchemistryco/Tangelo.git@develop  --quiet\n",
    "    !pip install pyscf\n",
    "    !pip install qulacs qiskit qiskit-aer  "
   ]
  },
  {
   "cell_type": "code",
   "execution_count": null,
   "metadata": {},
   "outputs": [],
   "source": [
    "from tangelo import SecondQuantizedMolecule\n",
    "from tangelo.algorithms import FCISolver, CCSDSolver\n",
    "from tangelo.algorithms import VQESolver\n",
    "\n",
    "LiH = [('Li', (0, 0, 0)),('H', (0, 0, 1.5949))] #these triples refer to coordinates\n",
    "mol_LiH = SecondQuantizedMolecule(LiH, q=0, spin=0, basis=\"sto-3g\")\n",
    "mol_LiH_t = SecondQuantizedMolecule(LiH, q=0, spin=2, basis=\"sto-3g\")\n",
    "\n",
    "NH3 = [('N', (0, 0, 0.1)), ('H', (0.94, 0, 0)), ('H', (-0.47, 0.81, 0)), ('H', (-0.47, -0.81, 0))]\n",
    "mol_NH3 = SecondQuantizedMolecule(NH3, q=0, spin=0, basis=\"sto-3g\")\n",
    "mol_NH3_t = SecondQuantizedMolecule(NH3, q=0, spin=2, basis=\"sto-3g\")\n",
    "\n",
    "#Ca->(2.5369,0.155), H -> 2,-0.155), H -> (3.0739,-0.155)\n",
    "CaH2 = [('Ca', (0, 0.155, 0)), ('H', (-0.5369, -0.155, 0)), ('H', (0.5369, -0.155, 0))]\n",
    "mol_CaH2 = SecondQuantizedMolecule(CaH2, q=0, spin=0, basis=\"sto-3g\")\n",
    "mol_CaH2_t = SecondQuantizedMolecule(CaH2, q=0, spin=2, basis=\"sto-3g\")\n",
    "\n",
    "MgH2 = [('Mg', (0, 0, 0)), ('H', (0, 0, -1.730)), ('H', (0, 0, 1.730))]\n",
    "mol_MgH2 = SecondQuantizedMolecule(MgH2, q=0, spin=0, basis=\"sto-3g\")\n",
    "mol_MgH2_t = SecondQuantizedMolecule(MgH2, q=0, spin=2, basis=\"sto-3g\")"
   ]
  },
  {
   "cell_type": "code",
   "execution_count": null,
   "metadata": {},
   "outputs": [],
   "source": [
    "def FCI_CCSD(second_quantized_molecule):\n",
    "    fci_solver = FCISolver(second_quantized_molecule)\n",
    "    fci_energy = fci_solver.simulate()\n",
    "    ccsd_solver = CCSDSolver(second_quantized_molecule)\n",
    "    ccsd_energy = ccsd_solver.simulate()\n",
    "    percent_difference = 100*(fci_energy-ccsd_energy)/fci_energy\n",
    "    print(\"FCI energy, CCSD energy, percent_difference:\")\n",
    "    return fci_energy, ccsd_energy, percent_difference"
   ]
  },
  {
   "cell_type": "code",
   "execution_count": null,
   "metadata": {},
   "outputs": [],
   "source": [
    "FCI_CCSD(mol_MgH2)"
   ]
  },
  {
   "cell_type": "code",
   "execution_count": 7,
   "metadata": {},
   "outputs": [],
   "source": [
    "H10=\"\"\"\n",
    "H          1.6180339887          0.0000000000          0.0000000000\n",
    "H          1.3090169944          0.9510565163          0.0000000000\n",
    "H          0.5000000000          1.5388417686          0.0000000000\n",
    "H         -0.5000000000          1.5388417686          0.0000000000\n",
    "H         -1.3090169944          0.9510565163          0.0000000000\n",
    "H         -1.6180339887          0.0000000000          0.0000000000\n",
    "H         -1.3090169944         -0.9510565163          0.0000000000\n",
    "H         -0.5000000000         -1.5388417686          0.0000000000\n",
    "H          0.5000000000         -1.5388417686          0.0000000000\n",
    "H          1.3090169944         -0.9510565163          0.0000000000\n",
    "\"\"\"\n",
    "\n",
    "mol_h10 = SecondQuantizedMolecule(H10, q=0, spin=0, basis=\"minao\")"
   ]
  },
  {
   "cell_type": "markdown",
   "metadata": {},
   "source": [
    "In the example below, we show resource requirements using standard parameters. Please note that other encodings could reduce the required resources, but resources would still be too much for current hardware."
   ]
  },
  {
   "cell_type": "code",
   "execution_count": 8,
   "metadata": {},
   "outputs": [],
   "source": [
    "options_h10_vqe = {\"molecule\": mol_h10, \"qubit_mapping\": \"jw\", \"verbose\": False}\n",
    "vqe_h10 = VQESolver(options_h10_vqe)\n",
    "vqe_h10.build()"
   ]
  },
  {
   "cell_type": "markdown",
   "metadata": {},
   "source": [
    "Here are some resources estimation that would be needed for a direct VQE calculation on the initial problem, without DMET: for quantum computers in the NISQ era, tackling this head-on is a daunting task."
   ]
  },
  {
   "cell_type": "code",
   "execution_count": 9,
   "metadata": {},
   "outputs": [
    {
     "name": "stdout",
     "output_type": "stream",
     "text": [
      "{'qubit_hamiltonian_terms': 4723, 'circuit_width': 20, 'circuit_depth': 48567, 'circuit_2qubit_gates': 42752, 'circuit_var_gates': 2604, 'vqe_variational_parameters': 350}\n"
     ]
    }
   ],
   "source": [
    "resources_h10_vqe = vqe_h10.get_resources()\n",
    "print(resources_h10_vqe)"
   ]
  },
  {
   "cell_type": "markdown",
   "metadata": {},
   "source": [
    "### 4.2 DMET-VQE\n",
    "\n",
    "Here, we demonstrate how to perform  DMET-VQE calculations using Tangelo package. The aim is to obtain improved results (vs HF energy) when compairing to the Full CI method (without using problem decomposition) and also using a quantum algorithm (VQE)."
   ]
  },
  {
   "cell_type": "code",
   "execution_count": 10,
   "metadata": {},
   "outputs": [],
   "source": [
    "options_h10_dmet = {\"molecule\": mol_h10,\n",
    "                    \"fragment_atoms\": [1]*10,\n",
    "                    \"fragment_solvers\": \"vqe\",\n",
    "                    \"verbose\": False\n",
    "                    }\n",
    "\n",
    "dmet_h10 = DMETProblemDecomposition(options_h10_dmet)\n",
    "dmet_h10.build()"
   ]
  },
  {
   "attachments": {},
   "cell_type": "markdown",
   "metadata": {},
   "source": [
    "The `dmet.build()` method creates fragments (10) from the H10 molecule. When we decompose the ring of atoms into fragments including only one hydrogen atom each, the DMET method creates a fragment orbital (left: the single orbital distribution is shown in both pink and blue, with the colours depicting the phases) and the bath orbital (right: the single orbital distribution of the remaining nine hydrogen atoms is shown in both pink and blue, with the colours depicting the phases). \n",
    "\n",
    "<img src=\"../img/frag_and_bath.png\" alt=\"fragment_and_bath_orbitals\" width=\"450\"/>\n",
    "\n",
    "Resource estimation is done by calling `dmet_h10.get_resources()`. Here, a list of ten dictionaries is returned and stored in `resources_h10_dmet`. Each dictionary refers to a fragment. As every fragment is the same in this system (a single hydrogen atom), we only print one."
   ]
  },
  {
   "cell_type": "code",
   "execution_count": 11,
   "metadata": {},
   "outputs": [
    {
     "name": "stdout",
     "output_type": "stream",
     "text": [
      "{'qubit_hamiltonian_terms': 27, 'circuit_width': 4, 'circuit_depth': 100, 'circuit_2qubit_gates': 64, 'circuit_var_gates': 12, 'vqe_variational_parameters': 2}\n"
     ]
    }
   ],
   "source": [
    "resources_h10_dmet = dmet_h10.get_resources()\n",
    "print(resources_h10_dmet[0])"
   ]
  },
  {
   "cell_type": "markdown",
   "metadata": {},
   "source": [
    "Compared to a direct VQE algorithm, those resources are greatly reduced: from 20 qubits down to only 4 qubits in our case. Below, `dmet_h10.simulate()` computes the DMET-VQE energy. \n",
    "\n",
    "The options currently selected specify that VQE must be run for each fragment, at each iteration of DMET: as such, it may take 2-3 minutes for this cell to finish. The `verbose` option is turned off to hide the lengthy prints: feel free to turn it back on to track the progress of this cell, if you'd like."
   ]
  },
  {
   "cell_type": "code",
   "execution_count": 12,
   "metadata": {},
   "outputs": [
    {
     "name": "stdout",
     "output_type": "stream",
     "text": [
      "DMET energy (hartree): \t -5.367523562281509\n"
     ]
    }
   ],
   "source": [
    "dmet_h10.verbose = False\n",
    "energy_h10_dmet = dmet_h10.simulate()\n",
    "\n",
    "print(f\"DMET energy (hartree): \\t {energy_h10_dmet}\")"
   ]
  },
  {
   "cell_type": "markdown",
   "metadata": {},
   "source": [
    "A comparison with an FCI calculation is then made."
   ]
  },
  {
   "cell_type": "code",
   "execution_count": 13,
   "metadata": {},
   "outputs": [
    {
     "name": "stdout",
     "output_type": "stream",
     "text": [
      "FCI energy (hartree): \t -5.380926000731037\n"
     ]
    }
   ],
   "source": [
    "fci_h10 = FCISolver(mol_h10)\n",
    "energy_h10_fci = fci_h10.simulate()\n",
    "\n",
    "print(f\"FCI energy (hartree): \\t {energy_h10_fci}\")"
   ]
  },
  {
   "cell_type": "markdown",
   "metadata": {},
   "source": [
    "Lastly, we note that the DMET energy is closer to the FCI energy than the HF energy. DMET-VQE results are an improvement but are still not at the FCI level. This discrepancy is attributable to missing three, four ... many body interactions. When dismantling the system into fragments, we get a single hydrogen atom per fragment. Therefore, those fragments cannot propagate higher level (three and more) excitations. DMET user should have in mind this dilemma between fragment sizes and accuracy of the total electronic energy."
   ]
  },
  {
   "cell_type": "code",
   "execution_count": 14,
   "metadata": {},
   "outputs": [
    {
     "name": "stdout",
     "output_type": "stream",
     "text": [
      "Difference FCI vs HF energies (hartree): \t\t 0.11680533556190298\n",
      "Difference FCI vs DMET-VQE energies (hartree): \t\t 0.013402438449528375\n",
      "Difference FCI vs HF energies (kcal/mol): \t\t 73.29534806509412\n",
      "Difference FCI vs DMET-VQE energies (kcal/mol): \t 8.410030127079056\n"
     ]
    }
   ],
   "source": [
    "energy_h10_hf = dmet_h10.mean_field.e_tot\n",
    "delta_h10_fci_hf = abs(energy_h10_fci - energy_h10_hf)\n",
    "delta_h10_fci_dmet = abs(energy_h10_fci - energy_h10_dmet)\n",
    "\n",
    "print(f\"Difference FCI vs HF energies (hartree): \\t\\t {delta_h10_fci_hf}\")\n",
    "print(f\"Difference FCI vs DMET-VQE energies (hartree): \\t\\t {delta_h10_fci_dmet}\")\n",
    "print(f\"Difference FCI vs HF energies (kcal/mol): \\t\\t {627.5*delta_h10_fci_hf}\")\n",
    "print(f\"Difference FCI vs DMET-VQE energies (kcal/mol): \\t {627.5*delta_h10_fci_dmet}\")"
   ]
  }
 ],
 "metadata": {
  "kernelspec": {
   "display_name": "Python 3 [Default]",
   "language": "python",
   "name": "python3"
  },
  "language_info": {
   "codemirror_mode": {
    "name": "ipython",
    "version": 3
   },
   "file_extension": ".py",
   "mimetype": "text/x-python",
   "name": "python",
   "nbconvert_exporter": "python",
   "pygments_lexer": "ipython3",
   "version": "3.11.9"
  },
  "vscode": {
   "interpreter": {
    "hash": "95050af2697fca56ed7491a4fb0b04c1282c0de0a7e0a7cacd318a8297b0b1d8"
   }
  }
 },
 "nbformat": 4,
 "nbformat_minor": 4
}
