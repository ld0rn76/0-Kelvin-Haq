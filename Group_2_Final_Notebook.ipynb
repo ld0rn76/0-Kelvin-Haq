{
 "cells": [
  {
   "cell_type": "markdown",
   "id": "d9feebc1-1ed3-44a2-9c41-e1bc70b0fc14",
   "metadata": {},
   "source": [
    "# Installation"
   ]
  },
  {
   "cell_type": "code",
   "execution_count": null,
   "id": "a46d4ae0-56ae-4237-b3af-ed4dcc31eca6",
   "metadata": {
    "scrolled": true
   },
   "outputs": [],
   "source": [
    "try:\n",
    "    import tangelo\n",
    "    import pennylane as qml\n",
    "except ModuleNotFoundError:\n",
    "    !pip install git+https://github.com/goodchemistryco/Tangelo.git@develop  --quiet\n",
    "    !pip install pyscf\n",
    "    !pip install qulacs qiskit qiskit-aer  \n",
    "    !pip install pennylane --upgrade"
   ]
  },
  {
   "cell_type": "markdown",
   "id": "767f4230-1009-4c43-b913-fd9e570f5939",
   "metadata": {},
   "source": [
    "# Defining LiH"
   ]
  },
  {
   "cell_type": "code",
   "execution_count": 2,
   "id": "a588c2ef-b5e5-430a-ba98-05ddc7e80595",
   "metadata": {},
   "outputs": [],
   "source": [
    "from tangelo import SecondQuantizedMolecule\n",
    "\n",
    "LiH = [('Li', (0, 0, 0)),('H', (0, 0, 1.5949))] #these triples refer to coordinates\n",
    "# the 1.5949 is experimentally determined to be the space betwn the elements\n",
    "# see here for example https://cccbdb.nist.gov/expgeom2x.asp?casno=1333740\n",
    "\n",
    "# use frozen_orbitals = None to set everything active for calculations\n",
    "mol_LiH = SecondQuantizedMolecule(LiH, q=0, spin=0, basis=\"sto-3g\")\n",
    "\n",
    "# triples can be made using spin #, abs diff between alpha and beta electrons\n",
    "# alpha = spin up, beta = spin-down, spin = alpha - beta electrons\n",
    "mol_LiH_t = SecondQuantizedMolecule(LiH, q=0, spin=2, basis=\"sto-3g\")"
   ]
  },
  {
   "cell_type": "code",
   "execution_count": 3,
   "id": "36c767be-d86d-49d2-b28a-68d5c3c3eec3",
   "metadata": {},
   "outputs": [
    {
     "name": "stdout",
     "output_type": "stream",
     "text": [
      "SecondQuantizedMolecule(xyz=[('Li', (0.0, 0.0, 0.0)), ('H', (0.0, 0.0, 1.5949))], q=0, spin=0, solver=<tangelo.toolboxes.molecular_computation.integral_solver_pyscf.IntegralSolverPySCF object at 0x7ee2e11d1090>, n_atoms=2, n_electrons=4, basis='sto-3g', ecp={}, symmetry=False, uhf=False, mf_energy=-7.8620269593941385, mo_energies=array([-2.34864417, -0.28570476,  0.07826185,  0.16393842,  0.16393842,\n",
      "        0.54912925]), mo_occ=array([2., 2., 0., 0., 0., 0.]), n_mos=6, n_sos=12, active_occupied=[1], frozen_occupied=[0], active_virtual=[2, 3, 4, 5], frozen_virtual=[])\n",
      "SecondQuantizedMolecule(xyz=[('Li', (0.0, 0.0, 0.0)), ('H', (0.0, 0.0, 1.5949))], q=0, spin=2, solver=<tangelo.toolboxes.molecular_computation.integral_solver_pyscf.IntegralSolverPySCF object at 0x7ee27d79cb10>, n_atoms=2, n_electrons=4, basis='sto-3g', ecp={}, symmetry=False, uhf=False, mf_energy=-7.766133365335707, mo_energies=NPArrayWithTag([-2.34705371, -0.26589778,  0.01337911,  0.16088823,\n",
      "                 0.16088823,  0.41914771]), mo_occ=NPArrayWithTag([2., 1., 1., 0., 0., 0.]), n_mos=6, n_sos=12, active_occupied=[1, 2], frozen_occupied=[0], active_virtual=[3, 4, 5], frozen_virtual=[])\n",
      "6 12\n"
     ]
    }
   ],
   "source": [
    "print(mol_LiH) # 2, 2 split between 0 and 1 oribtals\n",
    "print(mol_LiH_t) # 2,1,1 splits between 0\n",
    "print(mol_LiH.n_mos, mol_LiH.n_sos)"
   ]
  },
  {
   "cell_type": "markdown",
   "id": "2bf8945b-4039-4cf6-ad27-5b36f5489ffd",
   "metadata": {},
   "source": [
    "# Ground State Energy"
   ]
  },
  {
   "cell_type": "code",
   "execution_count": 4,
   "id": "f848f3c5-66fd-4175-b7f8-6e7aa29f23ba",
   "metadata": {},
   "outputs": [
    {
     "name": "stdout",
     "output_type": "stream",
     "text": [
      "LiH FCI Groud State Energy: -7.8821759908012705\n",
      "CCSD Groud State Energy: -7.882175990941344\n",
      "Percent difference of FCI and CCSD: -1.7770946824323282e-09%\n"
     ]
    }
   ],
   "source": [
    "from tangelo.algorithms import FCISolver, CCSDSolver\n",
    "# classical energy calculations using FCI and CCSD\n",
    "def getClassicalGround(mol):\n",
    "    fci_solver = FCISolver(mol)\n",
    "    fci_energy = fci_solver.simulate()\n",
    "    \n",
    "    \n",
    "    \n",
    "    ccsd_solver = CCSDSolver(mol)\n",
    "    ccsd_energy = ccsd_solver.simulate()\n",
    "    return fci_energy, ccsd_energy\n",
    "    \n",
    "fci_energy,ccsd_energy = getClassicalGround(mol_LiH)\n",
    "print(f\"LiH FCI Groud State Energy: {fci_energy}\")\n",
    "print(f\"CCSD Groud State Energy: {ccsd_energy}\")\n",
    "print(f\"Percent difference of FCI and CCSD: {100*(fci_energy-ccsd_energy)/fci_energy}%\")"
   ]
  },
  {
   "cell_type": "code",
   "execution_count": null,
   "id": "d9126b37-a5ad-4075-b611-cb0e85b26f27",
   "metadata": {},
   "outputs": [],
   "source": [
    "from tangelo.algorithms import VQESolver\n",
    "\n",
    "#100 cycles for speed's sake\n",
    "vqe_options = {\"molecule\": mol_LiH, \"verbose\": True}\n",
    "\n",
    "vqe_solver = VQESolver(vqe_options)\n",
    "vqe_solver.build()\n",
    "vqe_energy = vqe_solver.simulate()\n",
    "\n",
    "#output not shown in notebook for clarity"
   ]
  },
  {
   "cell_type": "code",
   "execution_count": 11,
   "id": "56f87bc9-51bd-4a9f-9803-34bc20f12576",
   "metadata": {},
   "outputs": [
    {
     "name": "stdout",
     "output_type": "stream",
     "text": [
      "VQE Ground State Energy: -7.88217484368532\n",
      "Percent difference of FCI and VQE: 1.4553290259077517e-05%\n"
     ]
    }
   ],
   "source": [
    "print(f\"VQE Ground State Energy: {vqe_energy}\")\n",
    "print(f\"Percent difference of FCI and VQE: {100*(fci_energy-vqe_energy)/fci_energy}%\")"
   ]
  },
  {
   "cell_type": "markdown",
   "id": "3ee568ca-098c-4f79-ade7-211e854199ea",
   "metadata": {},
   "source": [
    "# Construction of Trotter Suzuki Circuit to Simulate Hamiltonian"
   ]
  },
  {
   "cell_type": "code",
   "execution_count": 12,
   "id": "a77100cb-2124-4893-8c44-d7e606857aa5",
   "metadata": {},
   "outputs": [],
   "source": [
    "from tangelo.toolboxes.unitary_generator.trotter_suzuki import TrotterSuzukiUnitary\n",
    "\n",
    "NUM_STEPS = 5\n",
    "\n",
    "LiH_gnd_hamiltonian = vqe_solver.qubit_hamiltonian\n",
    "ts_model = TrotterSuzukiUnitary(qubit_hamiltonian=LiH_gnd_hamiltonian)\n",
    "ts_circuit = ts_model.build_circuit(NUM_STEPS)"
   ]
  },
  {
   "cell_type": "code",
   "execution_count": null,
   "id": "eb9290a9-a7ba-46e6-87f6-35e8a64a33d3",
   "metadata": {},
   "outputs": [],
   "source": [
    "#we now need to do a simulation of our trotter suzuki circuit\n",
    "print(ts_circuit)\n",
    "ts_circuit.draw()\n",
    "\n",
    "#output not shown in notebook for visual clarity"
   ]
  },
  {
   "cell_type": "markdown",
   "id": "4bab7abf-187a-4138-95da-ab9487b12706",
   "metadata": {},
   "source": [
    "## QPE"
   ]
  },
  {
   "cell_type": "code",
   "execution_count": 35,
   "id": "544d9136-f893-4166-b93e-833fee7b1689",
   "metadata": {},
   "outputs": [],
   "source": [
    "# Obtain the fermionic Hamiltonian\n",
    "fermionic_hamiltonian = mol_LiH.fermionic_hamiltonian\n",
    "\n",
    "from tangelo.toolboxes.qubit_mappings.mapping_transform import fermion_to_qubit_mapping\n",
    "\n",
    "# Choose a mapping scheme (e.g., Jordan-Wigner)\n",
    "qubit_mapping = \"JW\"  # Options include \"JW\", \"BK\", etc.\n",
    "\n",
    "# Map to qubit Hamiltonian\n",
    "qu_op = fermion_to_qubit_mapping(\n",
    "    fermionic_hamiltonian,\n",
    "    mapping=qubit_mapping,\n",
    "    n_spinorbitals=mol_LiH.n_active_sos,\n",
    "    n_electrons=mol_LiH.n_active_electrons,\n",
    "    spin=mol_LiH.spin,\n",
    "    up_then_down=False\n",
    ")\n",
    "predicted_ground_state_energy = 7.88217484368532\n",
    "# Shift ground state eigenvalue to be 0.25, such that a short-time QPE can return the exact energy\n",
    "# (the exact ground state energy is known to be 7.88217599080127)\n",
    "# see technique in 2a in https://github.com/sandbox-quantum/Tangelo-Examples/blob/main/hands_on/T5_fault_tolerant_build_blocks_solved.ipynb\n",
    "qu_op += (0.25 + predicted_ground_state_energy)"
   ]
  },
  {
   "cell_type": "code",
   "execution_count": 36,
   "id": "b207327c-17fb-450a-834c-21d796c96625",
   "metadata": {},
   "outputs": [],
   "source": [
    "from tangelo.toolboxes.qubit_mappings.statevector_mapping import get_reference_circuit\n",
    "\n",
    "hf_circuit = get_reference_circuit(\n",
    "    n_spinorbitals=mol_LiH.n_active_sos,\n",
    "    n_electrons=mol_LiH.n_active_electrons,\n",
    "    mapping=qubit_mapping,\n",
    "    up_then_down=False,\n",
    "    spin=mol_LiH.spin\n",
    ")"
   ]
  },
  {
   "cell_type": "code",
   "execution_count": 37,
   "id": "04409d44-ab8b-49a6-8099-3dd9d95e8c40",
   "metadata": {},
   "outputs": [
    {
     "name": "stdout",
     "output_type": "stream",
     "text": [
      "The overlap of the initial (Hartree-Fock) state with the exact ground state is        (0.9871537561234337+0j)\n",
      "The overlap of the initial (Hartree-Fock) state with the exact first excited state is (2.7197618404656433e-17+0j)\n"
     ]
    }
   ],
   "source": [
    "import numpy as np\n",
    "from openfermion import get_sparse_operator\n",
    "\n",
    "eigs, eigenstates = np.linalg.eigh(get_sparse_operator(qu_op).toarray())\n",
    "ground_sv = eigenstates[:, 0]\n",
    "first_sv = eigenstates[:, 14]  \n",
    "\n",
    "# Hartree-Fock reference state circuit\n",
    "from tangelo.linq import Circuit, Gate, get_backend\n",
    "\n",
    "sim = get_backend(\"cirq\")\n",
    "\n",
    "f, hf_sv = sim.simulate(hf_circuit, return_statevector=True)\n",
    "\n",
    "# Dot product to compare how close the initial Hartree-Fock reference is to the ground and first excited singlet state.\n",
    "g_ovlp = np.dot(hf_sv, ground_sv)\n",
    "f_ovlp = np.dot(hf_sv, first_sv)\n",
    "print(f\"The overlap of the initial (Hartree-Fock) state with the exact ground state is        {g_ovlp}\")\n",
    "print(f\"The overlap of the initial (Hartree-Fock) state with the exact first excited state is {f_ovlp}\")"
   ]
  },
  {
   "cell_type": "code",
   "execution_count": 38,
   "id": "f7bde12b-26a3-48c2-923d-d274de3b7c39",
   "metadata": {},
   "outputs": [],
   "source": [
    "from tangelo.toolboxes.ansatz_generator.ansatz_utils import trotterize, get_qft_circuit\n",
    "from tangelo.linq import Circuit, Gate\n",
    "\n",
    "# Define the list of ancilla qubits (e.g., the highest qubit indices)\n",
    "n_ancilla = 3  # Adjust based on desired precision\n",
    "qubit_list = list(range(mol_LiH.n_active_sos, mol_LiH.n_active_sos + n_ancilla))\n",
    "\n",
    "# Initialize the QPE circuit\n",
    "pe_circuit = Circuit()\n",
    "\n",
    "# State preparation\n",
    "pe_circuit += hf_circuit\n",
    "\n",
    "# Apply Hadamard gates to ancilla qubits\n",
    "pe_circuit += Circuit([Gate(\"H\", q) for q in qubit_list])\n",
    "\n",
    "# Controlled time evolution\n",
    "for i, qubit in enumerate(qubit_list):\n",
    "    # Calculate evolution time for each ancilla qubit\n",
    "    t = -2 * np.pi * 2**i\n",
    "    # Controlled-U operation\n",
    "    pe_circuit += trotterize(\n",
    "        qu_op,\n",
    "        trotter_order=2,  # Adjust as needed\n",
    "        n_trotter_steps=10,  # Adjust based on desired accuracy\n",
    "        time=t,\n",
    "        control=qubit\n",
    "    )\n",
    "\n",
    "# Apply inverse QFT\n",
    "pe_circuit += get_qft_circuit(qubit_list, inverse=True)"
   ]
  },
  {
   "cell_type": "code",
   "execution_count": 39,
   "id": "9c47bd86-2cf0-4763-8aaf-8d09356509fd",
   "metadata": {},
   "outputs": [],
   "source": [
    "# Simulate the circuit\n",
    "freqs, _ = sim.simulate(pe_circuit)\n",
    "\n",
    "from tangelo.toolboxes.post_processing.histogram import Histogram\n",
    "\n",
    "hist = Histogram(freqs)\n",
    "hist.remove_qubit_indices(*range(mol_LiH.n_active_sos))"
   ]
  },
  {
   "cell_type": "code",
   "execution_count": 40,
   "id": "0a7fe8b4-d2ca-4443-8637-cd62183f4d20",
   "metadata": {},
   "outputs": [
    {
     "name": "stdout",
     "output_type": "stream",
     "text": [
      "Measurement 000 with probability 0.00458 corresponds to energy 0.00000\n",
      "Measurement 001 with probability 0.00251 corresponds to energy 0.12500\n",
      "Measurement 010 with probability 0.94245 corresponds to energy 0.25000\n",
      "Measurement 011 with probability 0.00064 corresponds to energy 0.37500\n",
      "Measurement 100 with probability 0.01520 corresponds to energy 0.50000\n",
      "Measurement 101 with probability 0.00260 corresponds to energy 0.62500\n",
      "Measurement 110 with probability 0.02811 corresponds to energy 0.75000\n",
      "Measurement 111 with probability 0.00391 corresponds to energy 0.87500\n"
     ]
    }
   ],
   "source": [
    "for key, probability in hist.frequencies.items():    \n",
    "    energy = sum(int(k)/2**(i+1) for i, k in enumerate(key))\n",
    "    print(f\"Measurement {key} with probability {probability:.5f} corresponds to energy {energy:.5f}\")"
   ]
  },
  {
   "cell_type": "markdown",
   "id": "ddbac682-5e26-4d38-9e3b-03f609b78722",
   "metadata": {},
   "source": [
    "Seeing the 0.25 with high probability confirms our predicted energy state"
   ]
  },
  {
   "cell_type": "markdown",
   "id": "11cd15c4-0a42-490f-86c1-5572d6d2dde0",
   "metadata": {},
   "source": [
    "## QSE"
   ]
  },
  {
   "cell_type": "code",
   "execution_count": 41,
   "id": "4f233cc4-4d1e-46f2-8b21-feb9f8c5d8d1",
   "metadata": {},
   "outputs": [
    {
     "name": "stdout",
     "output_type": "stream",
     "text": [
      "Number of electrons: 2\n",
      "Number of spin orbitals: 10\n",
      "Number of molecular orbitals: 5\n",
      "Occupied molecular orbitals: 1\n"
     ]
    }
   ],
   "source": [
    "# Obtaining molecular information here so we know how to make our list of operators\n",
    "n_electrons = mol_LiH.n_active_electrons\n",
    "n_spin_orbitals = mol_LiH.n_active_sos  \n",
    "n_molecular_orbitals = n_spin_orbitals // 2 \n",
    "\n",
    "# Number of occupied molecular orbitals (since each can hold 2 electrons)\n",
    "n_occupied_mos = n_electrons // 2\n",
    "\n",
    "print(f\"Number of electrons: {n_electrons}\")\n",
    "print(f\"Number of spin orbitals: {n_spin_orbitals}\")\n",
    "print(f\"Number of molecular orbitals: {n_molecular_orbitals}\")\n",
    "print(f\"Occupied molecular orbitals: {n_occupied_mos}\")"
   ]
  },
  {
   "cell_type": "code",
   "execution_count": 42,
   "id": "b9d168a1-1a17-45c1-adbc-751cdc37a5ab",
   "metadata": {},
   "outputs": [
    {
     "name": "stdout",
     "output_type": "stream",
     "text": [
      "\n",
      "Excited States Energies:\n",
      "State 0: Energy = -7.735284005988082\n",
      "State 1: Energy = -7.735279626574434\n",
      "State 2: Energy = -7.735275250282784\n",
      "State 3: Energy = -7.687181453080737\n",
      "State 4: Energy = -7.680123617622705\n",
      "State 5: Energy = -7.680123617553553\n",
      "State 6: Energy = -7.680115696224129\n",
      "State 7: Energy = -7.680115696154995\n",
      "State 8: Energy = -7.680107770914089\n",
      "State 9: Energy = -7.680107770844971\n",
      "State 10: Energy = -7.630363229567549\n",
      "State 11: Energy = -7.630363229456696\n",
      "State 12: Energy = -7.465250028332574\n",
      "State 13: Energy = -7.465238073971059\n",
      "State 14: Energy = -7.465226121241107\n",
      "State 15: Energy = -7.234251125205581\n"
     ]
    }
   ],
   "source": [
    "import numpy as np\n",
    "from scipy.linalg import eigh\n",
    "from openfermion.utils import hermitian_conjugated as hc\n",
    "from tangelo.toolboxes.operators import FermionOperator\n",
    "from tangelo.toolboxes.qubit_mappings.mapping_transform import fermion_to_qubit_mapping as f2q_mapping\n",
    "\n",
    "##this code follows the tangelo examples from here:\n",
    "##https://github.com/sandbox-quantum/Tangelo-Examples/blob/main/examples/chemistry/excited_states.ipynb\n",
    "\n",
    "##Check FermionOperator, why are values slightly off?\n",
    "\n",
    "op_list = list()\n",
    "for i in range(n_occupied_mos):\n",
    "    for j in range(n_occupied_mos, n_molecular_orbitals):\n",
    "        ##Spin-up to Spin-up\n",
    "        op_list += [f2q_mapping(FermionOperator(((2*j, 1), (2*i, 0))), \"jw\")]\n",
    "        ##Spin-down to Spin-down\n",
    "        op_list += [f2q_mapping(FermionOperator(((2*j+1, 1), (2*i+1, 0))), \"jw\")]\n",
    "        ##Spin-up to Spin-down\n",
    "        op_list += [f2q_mapping(FermionOperator(((2*j+1, 1), (2*i, 0))), \"jw\")]\n",
    "        ##Spin-down to Spin-up\n",
    "        op_list += [f2q_mapping(FermionOperator(((2*j, 1), (2*i+1, 0))), \"jw\")]\n",
    "\n",
    "\n",
    "size_mat = len(op_list)\n",
    "h = np.zeros((size_mat, size_mat))\n",
    "s = np.zeros((size_mat, size_mat))\n",
    "state_circuit = vqe_solver.optimal_circuit\n",
    "for i, op1 in enumerate(op_list):\n",
    "    for j, op2 in enumerate(op_list):\n",
    "        h[i, j] = np.real(vqe_solver.backend.get_expectation_value(hc(op1)*vqe_solver.qubit_hamiltonian*op2, state_circuit))\n",
    "        s[i, j] = np.real(vqe_solver.backend.get_expectation_value(hc(op1)*op2, state_circuit))\n",
    "\n",
    "eigenvalues, eigenvectors = eigh(h, s)\n",
    "print(\"\\nExcited States Energies:\")\n",
    "for idx, energy in enumerate(eigenvalues):\n",
    "    print(f\"State {idx}: Energy = {energy}\")"
   ]
  },
  {
   "cell_type": "markdown",
   "id": "32b74900-6fa9-44e0-a76b-5d16821d2f41",
   "metadata": {},
   "source": [
    "The energy states seen here are close in accuracy to those in the literature. We will now seek to make improvements to our methods"
   ]
  },
  {
   "cell_type": "markdown",
   "id": "1c2a58f3-c1d5-4bfb-9729-9b29304ef3ba",
   "metadata": {},
   "source": [
    "# Optimization and Noise and Ansatz Testing for Ground State"
   ]
  },
  {
   "cell_type": "markdown",
   "id": "7b946fd6-e1af-4fa6-8cbf-5283fc646880",
   "metadata": {},
   "source": [
    "## Interpreting qubit states that was mapped using Jordan-Wigner mapping"
   ]
  },
  {
   "cell_type": "code",
   "execution_count": 21,
   "id": "171bcabc-e83f-48a5-86c4-1867f1383a8a",
   "metadata": {},
   "outputs": [],
   "source": [
    "from openfermion import get_sparse_operator\n",
    "import numpy as np\n",
    "\n",
    "# Get the qubit hamiltonian of LiH\n",
    "LiH_gnd_hamiltonian = vqe_solver.qubit_hamiltonian\n",
    "\n",
    "# Get the optimal circuit\n",
    "optimal_circuit = vqe_solver.optimal_circuit\n",
    "\n",
    "# Function for computing the tensor product\n",
    "def kron_N(*ops):\n",
    "    tmp = ops[0]\n",
    "    for op in ops[1:]:\n",
    "        tmp = np.kron(tmp,op)\n",
    "    return tmp\n",
    "\n",
    "# Apply the calculation of energy based on j-w mapping and the quantum states \n",
    "bra0 = np.array([[1,0]])\n",
    "bra1 = np.array([[0,1]])\n",
    "# print(np.array2string(kron_N(bra1,bra1,bra0,bra0,bra0,bra0,bra0,bra0,bra0,bra0)[0], threshold=np.inf))\n",
    "LiH_jw_matrix = get_sparse_operator(LiH_gnd_hamiltonian)\n",
    "\n",
    "# Function for computing the energy out of the quantum states\n",
    "def evaluate_energy(quantum_states, print_state_energy=False):\n",
    "    energy = []\n",
    "    for prob_key, _ in quantum_states.items():\n",
    "        braket = []\n",
    "        for bit in prob_key:\n",
    "            if bit == \"1\":\n",
    "                braket.append(bra1)\n",
    "            else:\n",
    "                braket.append(bra0)\n",
    "        HFbra = kron_N(*braket)\n",
    "        HFket = HFbra.T\n",
    "        energy.append(np.real(HFbra.dot(LiH_jw_matrix.dot(HFket)))[0][0])\n",
    "    if print_state_energy:\n",
    "        print(f'\\nThe energy of each state:\\n{dict(zip(quantum_states.keys(), energy))}')\n",
    "    possibilities = np.array(list(quantum_states.values()))\n",
    "    return np.sum(energy * possibilities)"
   ]
  },
  {
   "cell_type": "markdown",
   "id": "0493df10-7d64-4cb3-aa9d-27d05f8b45a0",
   "metadata": {},
   "source": [
    "## Run circuit simulations with/without noises on the backend"
   ]
  },
  {
   "cell_type": "code",
   "execution_count": 22,
   "id": "3d6a03b9-e841-4c82-80a8-af5a96c57c48",
   "metadata": {},
   "outputs": [],
   "source": [
    "from tangelo.linq import get_backend, ONE_QUBIT_GATES, TWO_QUBIT_GATES\n",
    "from tangelo.linq.noisy_simulation import NoiseModel\n",
    "\n",
    "# Create a depolarization noise model to be used in future cells. All gates are treated with a noise level commonly seen in reality.\n",
    "# In general, a one-qubit gate has lambda between 10^-4 to 10^-3, while a two-qubit gate has lambda between 10^-3 to 10^-2 (noisy hardware can go up to 10^-1).\n",
    "nm = NoiseModel()\n",
    "for g1 in ONE_QUBIT_GATES:\n",
    "    nm.add_quantum_error(g1, 'depol', 0.001)\n",
    "for g2 in TWO_QUBIT_GATES:\n",
    "    nm.add_quantum_error(g2, 'depol', 0.01)"
   ]
  },
  {
   "cell_type": "code",
   "execution_count": null,
   "id": "295fca3d-f460-425b-afd3-0602eea71c25",
   "metadata": {},
   "outputs": [],
   "source": [
    "# Get backends with noisy or noiseless \n",
    "noisy_backend = get_backend(target='qulacs', n_shots=10**3, noise_model=nm)\n",
    "noiseless_backend = get_backend(target='qulacs')\n",
    "\n",
    "noisy_probabilities = noisy_backend.simulate(optimal_circuit)[0]\n",
    "noiseless_probabilities = noiseless_backend.simulate(optimal_circuit)[0]\n",
    "\n",
    "# Simulate\n",
    "print(noisy_probabilities,\"\\n\")\n",
    "print(noiseless_probabilities)\n",
    "\n",
    "# output not shown for clarity"
   ]
  },
  {
   "cell_type": "code",
   "execution_count": 25,
   "id": "33f26fd2-18a4-4248-98e4-2bc7ae39e844",
   "metadata": {},
   "outputs": [
    {
     "name": "stdout",
     "output_type": "stream",
     "text": [
      "\n",
      "The energy of each state:\n",
      "{'1100000000': -7.862026959394124, '0110000000': -7.708803341088391, '1001000000': -7.708803341088393, '0011000000': -7.1774908041332575, '0000110000': -7.196921401877651, '0000001100': -7.196921401877651, '0100000010': -7.357367580948617, '0001000010': -7.152812557941553, '1000000001': -7.357367580948614, '0010000001': -7.152812557941553, '0000000011': -6.81917331249928}\n",
      "\n",
      "The energy calculated from the noiseless backend simulation that uses jordan-wigner mapping: -7.841312709870466\n",
      "LiH FCI Ground State Energy: -7.8821759908012705\n",
      "Relative error: 0.5184263961943169%\n"
     ]
    }
   ],
   "source": [
    "# Evaluate the performance of the noiseless backend\n",
    "optimal_energy_backend_noiseless = evaluate_energy(noiseless_probabilities, print_state_energy=True)\n",
    "print(f'\\nThe energy calculated from the noiseless backend simulation that uses jordan-wigner mapping: {optimal_energy_backend_noiseless}')\n",
    "print(f\"LiH FCI Ground State Energy: {fci_energy}\")\n",
    "print(f\"Relative error: {100*(fci_energy-optimal_energy_backend_noiseless)/fci_energy}%\")"
   ]
  },
  {
   "cell_type": "markdown",
   "id": "fcb7eaa6-6a48-475a-adc2-58928e4f7640",
   "metadata": {},
   "source": [
    "***Compared with the relative error of the quantum algorithm executed locally after the classical optimization, the performance drops DRAMATICALLY on backends.***"
   ]
  },
  {
   "cell_type": "code",
   "execution_count": null,
   "id": "16cbe14b-bd0a-4cac-8720-3cb72d4ddbc2",
   "metadata": {},
   "outputs": [],
   "source": [
    "# Evaluate the performance of the noisy backend\n",
    "optimal_energy_backend_noisy = evaluate_energy(noisy_probabilities, print_state_energy=True)"
   ]
  },
  {
   "cell_type": "code",
   "execution_count": 28,
   "id": "a42a9c90-97d0-4807-8a61-0e434f6293d2",
   "metadata": {},
   "outputs": [
    {
     "name": "stdout",
     "output_type": "stream",
     "text": [
      "\n",
      "The energy calculated from the noisy backend simulation that uses j-w mapping: -6.069121410485993\n",
      "LiH FCI Groud State Energy: -7.8821759908012705\n",
      "Relative error: 23.001955074730194%\n"
     ]
    }
   ],
   "source": [
    "print(f'\\nThe energy calculated from the noisy backend simulation that uses j-w mapping: {optimal_energy_backend_noisy}')\n",
    "print(f\"LiH FCI Groud State Energy: {fci_energy}\")\n",
    "print(f\"Relative error: {100*(fci_energy-optimal_energy_backend_noisy)/fci_energy}%\")"
   ]
  },
  {
   "cell_type": "markdown",
   "id": "662344b4-5ade-427c-9c88-31229237e301",
   "metadata": {},
   "source": [
    "***Given the relative error of this circuit on a noiseless simulator, this result on a noisy backend seems decent.***"
   ]
  },
  {
   "cell_type": "markdown",
   "id": "6025733e-9d29-4b10-a1f9-e4e6c634b93a",
   "metadata": {},
   "source": [
    "## Trotterization on noisy and noiseless backends"
   ]
  },
  {
   "cell_type": "code",
   "execution_count": 30,
   "id": "0fbe5cf3-4219-434d-8c98-dc0be2370593",
   "metadata": {},
   "outputs": [
    {
     "name": "stdout",
     "output_type": "stream",
     "text": [
      "Noiseless qulacs backend was used.\n",
      "\n",
      "Probability of finding the ground state: 0.9743470071142875\n",
      "Probability of finding the ground state after 1 second: 0.40119802720698916 \n",
      "\n"
     ]
    },
    {
     "data": {
      "image/png": "[encoded data removed]",
      "text/plain": [
       "<Figure size 640x480 with 1 Axes>"
      ]
     },
     "metadata": {},
     "output_type": "display_data"
    },
    {
     "data": {
      "image/png": "[encoded data removed]",
      "text/plain": [
       "<Figure size 640x480 with 1 Axes>"
      ]
     },
     "metadata": {},
     "output_type": "display_data"
    }
   ],
   "source": [
    "import matplotlib.pyplot as plt\n",
    "# The most probable state depends on your qubit_mapping and up_then_down (ansatz choice affects up_then_down), \n",
    "# but it should nearly always be the molecule's initial state before any evolution.\n",
    "most_probable_state = next(iter(noiseless_probabilities))\n",
    "\n",
    "# When t is small (default time = 1.0 * NUM_STEPS = 1 = 1.0 second) in the time evolution, energy (quantum states) change is minimal as expected:\n",
    "print(\"Noiseless qulacs backend was used.\")\n",
    "print(f'\\nProbability of finding the ground state: {noiseless_probabilities[most_probable_state]}')\n",
    "print(f'Probability of finding the ground state after 1 second: {noiseless_backend.simulate(optimal_circuit+ts_circuit)[0][most_probable_state]} \\n')\n",
    "\n",
    "# Can we see how it evolves? Let's try by plotting how the probability of the initial ground state changes:\n",
    "def plot_state_prob_evolve(state, backend, time_step_for_ts = 1, time_until = 50):   \n",
    "    t_array = np.arange(0, time_until + time_step_for_ts, time_step_for_ts)\n",
    "    p_array = []\n",
    "    ts_m = TrotterSuzukiUnitary(qubit_hamiltonian = LiH_gnd_hamiltonian, time = time_step_for_ts)\n",
    "    for i in t_array / time_step_for_ts:\n",
    "        ts = ts_m.build_circuit(i)\n",
    "        p_array.append(backend.simulate(optimal_circuit + ts)[0][state])\n",
    "    plt.figure()\n",
    "    plt.plot(t_array,p_array)\n",
    "    plt.xlabel(\"Time [s]\")\n",
    "    plt.ylabel(f\"Probability of the state '{state}'\")\n",
    "\n",
    "# Can tune the function argumenets\n",
    "plot_state_prob_evolve(most_probable_state, noiseless_backend)\n",
    "    \n",
    "# See how the energy evolves\n",
    "energy_array = [evaluate_energy(noiseless_backend.simulate(optimal_circuit+TrotterSuzukiUnitary(qubit_hamiltonian=LiH_gnd_hamiltonian).build_circuit(i))[0]) \n",
    "                for i in range(51)]\n",
    "plt.figure()\n",
    "plt.title(\"Energy evolution\")\n",
    "plt.plot(range(51), energy_array)\n",
    "plt.xlabel(\"Time [s]\")\n",
    "plt.ylabel(\"Energy [Ha]\")\n",
    "plt.show()"
   ]
  },
  {
   "cell_type": "code",
   "execution_count": 31,
   "id": "5c8babc9-6d21-416c-9831-3d0ef5269db5",
   "metadata": {},
   "outputs": [
    {
     "data": {
      "image/png": "[encoded data removed]",
      "text/plain": [
       "<Figure size 640x480 with 1 Axes>"
      ]
     },
     "metadata": {},
     "output_type": "display_data"
    }
   ],
   "source": [
    "# Let's see how the dominant state at t = 0 evolves.\n",
    "# plot_state_prob_evolve(most_probable_state, noisy_backend, time_step_for_ts = 0.05, time_until = 1.5)\n",
    "\n",
    "# See how the energy evolves\n",
    "energy_array = [evaluate_energy(noisy_backend.simulate(optimal_circuit+ts_model.build_circuit(i))[0]) for i in range(11)]\n",
    "\n",
    "plt.figure()\n",
    "plt.plot(range(11), energy_array)\n",
    "plt.xlabel(\"Time [s]\")\n",
    "plt.ylabel(\"Energy [Ha]\")\n",
    "plt.title(\"Energy evolution\")\n",
    "plt.show()"
   ]
  },
  {
   "cell_type": "markdown",
   "id": "ed25fdb7-720d-45f2-858b-1e07e467ae15",
   "metadata": {},
   "source": [
    "***The energy drops more and a little faster, but the trend remains the same. Given that there are no longer dominant states as time passes, it's resonable to guess that because of decoherance, a quantum backend calculates the energy as being spread out among in various states, which isn't physically true--ground state should nearly always stays at ground state.***"
   ]
  },
  {
   "cell_type": "markdown",
   "id": "aeca9edd-c7b3-438f-a449-1da198909475",
   "metadata": {},
   "source": [
    "## Mappings & Ansatze experiments with LiH and VQE"
   ]
  },
  {
   "cell_type": "code",
   "execution_count": 32,
   "id": "253b96a1-19b9-485e-aefc-7ad90210690f",
   "metadata": {},
   "outputs": [
    {
     "name": "stdout",
     "output_type": "stream",
     "text": [
      "Qubit mapping currently in use: Jordan-Wigner\n",
      "\n",
      "VQE Ground State Energy: -7.882174298864892\n",
      "Percent difference of FCI and VQE: 2.1465346378089946e-05%\n",
      "{'qubit_hamiltonian_terms': 276, 'circuit_width': 10, 'circuit_depth': 1985, 'circuit_2qubit_gates': 1616, 'circuit_var_gates': 144, 'vqe_variational_parameters': 14} \n",
      "\n",
      "Qubit mapping currently in use: Bravyi-Kitaev\n",
      "\n",
      "VQE Ground State Energy: -7.882172112668937\n",
      "Percent difference of FCI and VQE: 4.920129083664343e-05%\n",
      "{'qubit_hamiltonian_terms': 276, 'circuit_width': 10, 'circuit_depth': 1834, 'circuit_2qubit_gates': 1442, 'circuit_var_gates': 144, 'vqe_variational_parameters': 14} \n",
      "\n",
      "Qubit mapping currently in use: Symmetry Conserving Bravyi-Kitaev\n",
      "\n",
      "VQE Ground State Energy: -7.882170877574115\n",
      "Percent difference of FCI and VQE: 6.487075601241873e-05%\n",
      "{'qubit_hamiltonian_terms': 276, 'circuit_width': 8, 'circuit_depth': 1660, 'circuit_2qubit_gates': 1276, 'circuit_var_gates': 144, 'vqe_variational_parameters': 14} \n",
      "\n"
     ]
    }
   ],
   "source": [
    "# Try different Mappings without changing the ansatze\n",
    "from tangelo.algorithms import BuiltInAnsatze as Ansatze\n",
    "# VQE-UCCSD on LiH with different qubit mappings\n",
    "map_names = ['Jordan-Wigner', 'Bravyi-Kitaev', 'Symmetry Conserving Bravyi-Kitaev']\n",
    "maps = ['jw', 'bk', 'scbk']\n",
    "for name, qm in zip(map_names, maps):\n",
    "    vqe1_options = {\"molecule\": mol_LiH, \"ansatz\": Ansatze.UCCSD, \"up_then_down\": True, \"qubit_mapping\": qm}\n",
    "    vqe1_solver = VQESolver(vqe1_options)\n",
    "    vqe1_solver.build()\n",
    "    vqe1_solver.simulate()\n",
    "    print(f\"Qubit mapping currently in use: {name}\\n\")\n",
    "    print(f\"VQE Ground State Energy: {vqe1_solver.optimal_energy}\")\n",
    "    print(f\"Percent difference of FCI and VQE: {100*(fci_energy-vqe1_solver.optimal_energy)/fci_energy}%\")\n",
    "    print(vqe1_solver.get_resources(), \"\\n\")"
   ]
  },
  {
   "cell_type": "code",
   "execution_count": 33,
   "id": "b9715fae-534c-4c89-b00b-74bbe0e75bb7",
   "metadata": {},
   "outputs": [
    {
     "name": "stdout",
     "output_type": "stream",
     "text": [
      "Jordan-Wigner mapping was used for the following results.\n",
      "\n",
      "Ansatze currently in use: UCCSD\n",
      "\n",
      "VQE Ground State Energy: -7.8821742988638075\n",
      "Percent difference of FCI and VQE: 2.1465360136547657e-05%\n",
      "{'qubit_hamiltonian_terms': 276, 'circuit_width': 10, 'circuit_depth': 1985, 'circuit_2qubit_gates': 1616, 'circuit_var_gates': 144, 'vqe_variational_parameters': 14} \n",
      "\n",
      "Ansatze currently in use: ILC\n",
      "\n",
      "VQE Ground State Energy: -7.881746411660309\n",
      "Percent difference of FCI and VQE: 0.005450006970952614%\n",
      "{'qubit_hamiltonian_terms': 276, 'circuit_width': 10, 'circuit_depth': 133, 'circuit_2qubit_gates': 98, 'circuit_var_gates': 31, 'vqe_variational_parameters': 26} \n",
      "\n",
      "Ansatze currently in use: QCC\n",
      "\n",
      "VQE Ground State Energy: -7.881490166423205\n",
      "Percent difference of FCI and VQE: 0.008700952362210244%\n",
      "{'qubit_hamiltonian_terms': 276, 'circuit_width': 10, 'circuit_depth': 56, 'circuit_2qubit_gates': 36, 'circuit_var_gates': 26, 'vqe_variational_parameters': 26} \n",
      "\n",
      "Ansatze currently in use: QMF\n",
      "\n",
      "VQE Ground State Energy: -7.862026959394122\n",
      "Percent difference of FCI and VQE: 0.2556277788095998%\n",
      "{'qubit_hamiltonian_terms': 276, 'circuit_width': 10, 'circuit_depth': 2, 'circuit_2qubit_gates': 0, 'circuit_var_gates': 20, 'vqe_variational_parameters': 20} \n",
      "\n"
     ]
    }
   ],
   "source": [
    "# Try different Ansatz ('jw' as the mapping; HEA isn't compatible with 'jw')\n",
    "from tangelo.algorithms import BuiltInAnsatze as Ansatze\n",
    "name = ['UCCSD','ILC', 'QCC', 'QMF']\n",
    "ansatz = [Ansatze.UCCSD, Ansatze.ILC, Ansatze.QCC, Ansatze.QMF]\n",
    "print('Jordan-Wigner mapping was used for the following results.\\n')\n",
    "\n",
    "# \"up_then_down\" must be True for QCC-based Ansatze.\n",
    "for n, az in zip(name, ansatz):\n",
    "    vqe2_options = {\"molecule\": mol_LiH, \"ansatz\": az, \"up_then_down\": True, \"qubit_mapping\": 'jw'}\n",
    "    vqe2_solver = VQESolver(vqe2_options)\n",
    "    vqe2_solver.build()\n",
    "    vqe2_solver.simulate()\n",
    "    print(f\"Ansatze currently in use: {n}\\n\")\n",
    "    print(f\"VQE Ground State Energy: {vqe2_solver.optimal_energy}\")\n",
    "    print(f\"Percent difference of FCI and VQE: {100*(fci_energy-vqe2_solver.optimal_energy)/fci_energy}%\")\n",
    "    print(vqe2_solver.get_resources(), \"\\n\")"
   ]
  },
  {
   "cell_type": "code",
   "execution_count": 34,
   "id": "27ea0aab-c304-4299-a2fa-6a5e45687277",
   "metadata": {},
   "outputs": [
    {
     "name": "stdout",
     "output_type": "stream",
     "text": [
      "Bravyi-Kitaev mapping was used for the following results.\n",
      "\n",
      "Ansatze currently in use: UCCSD\n",
      "\n",
      "VQE Ground State Energy: -7.882172112668506\n",
      "Percent difference of FCI and VQE: 4.9201296301714676e-05%\n",
      "{'qubit_hamiltonian_terms': 276, 'circuit_width': 10, 'circuit_depth': 1834, 'circuit_2qubit_gates': 1442, 'circuit_var_gates': 144, 'vqe_variational_parameters': 14} \n",
      "\n",
      "Ansatze currently in use: HEA\n",
      "\n",
      "VQE Ground State Energy: -7.715467924426582\n",
      "Percent difference of FCI and VQE: 2.115000560368633%\n",
      "{'qubit_hamiltonian_terms': 276, 'circuit_width': 10, 'circuit_depth': 14, 'circuit_2qubit_gates': 18, 'circuit_var_gates': 90, 'vqe_variational_parameters': 90} \n",
      "\n",
      "Ansatze currently in use: ILC\n",
      "\n",
      "VQE Ground State Energy: -7.881746411660291\n",
      "Percent difference of FCI and VQE: 0.005450006971177977%\n",
      "{'qubit_hamiltonian_terms': 276, 'circuit_width': 10, 'circuit_depth': 127, 'circuit_2qubit_gates': 92, 'circuit_var_gates': 31, 'vqe_variational_parameters': 26} \n",
      "\n",
      "Ansatze currently in use: QCC\n",
      "\n",
      "VQE Ground State Energy: -7.881490166425116\n",
      "Percent difference of FCI and VQE: 0.00870095233797237%\n",
      "{'qubit_hamiltonian_terms': 276, 'circuit_width': 10, 'circuit_depth': 64, 'circuit_2qubit_gates': 44, 'circuit_var_gates': 26, 'vqe_variational_parameters': 26} \n",
      "\n",
      "Ansatze currently in use: QMF\n",
      "\n",
      "VQE Ground State Energy: -7.862026959394122\n",
      "Percent difference of FCI and VQE: 0.2556277788095998%\n",
      "{'qubit_hamiltonian_terms': 276, 'circuit_width': 10, 'circuit_depth': 2, 'circuit_2qubit_gates': 0, 'circuit_var_gates': 20, 'vqe_variational_parameters': 20} \n",
      "\n"
     ]
    }
   ],
   "source": [
    "# Try different Ansatz ('bk' as map)\n",
    "name1 = ['UCCSD', 'HEA', 'ILC', 'QCC', 'QMF']\n",
    "ansatz1 = [Ansatze.UCCSD, Ansatze.HEA, Ansatze.ILC, Ansatze.QCC, Ansatze.QMF]\n",
    "print('Bravyi-Kitaev mapping was used for the following results.\\n')\n",
    "\n",
    "for n, az in zip(name1, ansatz1):\n",
    "    vqe3_options = {\"molecule\": mol_LiH, \"ansatz\": az, \"up_then_down\": True, \"qubit_mapping\": 'bk'}\n",
    "    vqe3_solver = VQESolver(vqe3_options)\n",
    "    vqe3_solver.build()\n",
    "    vqe3_solver.simulate()\n",
    "    print(f\"Ansatze currently in use: {n}\\n\")\n",
    "    print(f\"VQE Ground State Energy: {vqe3_solver.optimal_energy}\")\n",
    "    print(f\"Percent difference of FCI and VQE: {100*(fci_energy-vqe3_solver.optimal_energy)/fci_energy}%\")\n",
    "    print(vqe3_solver.get_resources(), \"\\n\")\n",
    "\n",
    "# 'bk' mapping seems to be a little better for the default setting of UCCSD, but for ILC and QCC it depends on whether \"up_then_down\" is False.\n",
    "# ILC and QCC provide the best balance between accuracy and circuit complexity compared to other ansatzes no matter the mapping used."
   ]
  },
  {
   "cell_type": "code",
   "execution_count": 43,
   "id": "3156cc39-a100-41a3-a8e2-1be354107b15",
   "metadata": {},
   "outputs": [
    {
     "name": "stdout",
     "output_type": "stream",
     "text": [
      "Symmetry Conserving Bravyi-Kitaev mapping was used for the following results.\n",
      "\n",
      "Ansatze currently in use: UCCSD\n",
      "\n",
      "VQE Ground State Energy: -7.882170877580905\n",
      "Percent difference of FCI and VQE: 6.487066986712045e-05%\n",
      "{'qubit_hamiltonian_terms': 276, 'circuit_width': 8, 'circuit_depth': 1660, 'circuit_2qubit_gates': 1276, 'circuit_var_gates': 144, 'vqe_variational_parameters': 14} \n",
      "\n",
      "Ansatze currently in use: HEA\n",
      "\n",
      "VQE Ground State Energy: -7.862012861871749\n",
      "Percent difference of FCI and VQE: 0.25580663198909026%\n",
      "{'qubit_hamiltonian_terms': 276, 'circuit_width': 8, 'circuit_depth': 14, 'circuit_2qubit_gates': 14, 'circuit_var_gates': 72, 'vqe_variational_parameters': 72} \n",
      "\n",
      "Ansatze currently in use: ILC\n",
      "\n",
      "VQE Ground State Energy: -7.881746411660284\n",
      "Percent difference of FCI and VQE: 0.005450006971268123%\n",
      "{'qubit_hamiltonian_terms': 276, 'circuit_width': 8, 'circuit_depth': 129, 'circuit_2qubit_gates': 94, 'circuit_var_gates': 27, 'vqe_variational_parameters': 22} \n",
      "\n",
      "Ansatze currently in use: QCC\n",
      "\n",
      "VQE Ground State Energy: -7.881490166423838\n",
      "Percent difference of FCI and VQE: 0.008700952354187294%\n",
      "{'qubit_hamiltonian_terms': 276, 'circuit_width': 8, 'circuit_depth': 64, 'circuit_2qubit_gates': 44, 'circuit_var_gates': 22, 'vqe_variational_parameters': 22} \n",
      "\n",
      "Ansatze currently in use: QMF\n",
      "\n",
      "VQE Ground State Energy: -7.8620269593941225\n",
      "Percent difference of FCI and VQE: 0.25562777880958854%\n",
      "{'qubit_hamiltonian_terms': 276, 'circuit_width': 8, 'circuit_depth': 2, 'circuit_2qubit_gates': 0, 'circuit_var_gates': 16, 'vqe_variational_parameters': 16} \n",
      "\n"
     ]
    }
   ],
   "source": [
    "# Try different Ansatz ('scbk' as the mapping, which strictly requires \"up_then_down\" = True)\n",
    "print('Symmetry Conserving Bravyi-Kitaev mapping was used for the following results.\\n')\n",
    "\n",
    "for n, az in zip(name1, ansatz1):\n",
    "    vqe3_options = {\"molecule\": mol_LiH, \"ansatz\": az, \"up_then_down\": True, \"qubit_mapping\": 'scbk'}\n",
    "    vqe3_solver = VQESolver(vqe3_options)\n",
    "    vqe3_solver.build()\n",
    "    vqe3_solver.simulate()\n",
    "    print(f\"Ansatze currently in use: {n}\\n\")\n",
    "    print(f\"VQE Ground State Energy: {vqe3_solver.optimal_energy}\")\n",
    "    print(f\"Percent difference of FCI and VQE: {100*(fci_energy-vqe3_solver.optimal_energy)/fci_energy}%\")\n",
    "    print(vqe3_solver.get_resources(), \"\\n\")"
   ]
  },
  {
   "cell_type": "markdown",
   "id": "72dd232f-d042-45e1-b720-abda5f915770",
   "metadata": {},
   "source": [
    "***We can conclude that the specific mapping should be tuned for each circuit, but the choice of Ansatze matters the most. For LiH and default optimizer in VQE, UCCSD is the most accurate (10^-7) one but produces the most complex circuit. ILC and QCC have a good balance (10^-5), though each might favor different mappings depending on the circuit. QMF produces the least complex circuit with a slightly higher relative relative error (10^-3).***"
   ]
  },
  {
   "cell_type": "markdown",
   "id": "e3585805-62a8-4633-ab71-149dbd423f2e",
   "metadata": {},
   "source": [
    "We now turn to the analysis of Metal Hydrides"
   ]
  },
  {
   "cell_type": "markdown",
   "id": "7f447cd1-3a73-41ab-84a2-505ed340cde8",
   "metadata": {},
   "source": [
    "# Density Matrix Embedding Theory (DMET) for Metal Hydrides"
   ]
  },
  {
   "cell_type": "code",
   "execution_count": 45,
   "id": "7af646c8-fcd6-4ba4-b107-c43aef563933",
   "metadata": {},
   "outputs": [],
   "source": [
    "import json\n",
    "from tangelo import SecondQuantizedMolecule\n",
    "from tangelo.problem_decomposition import DMETProblemDecomposition\n",
    "from tangelo.problem_decomposition.dmet import Localization\n",
    "from tangelo.algorithms import VQESolver\n",
    "from tangelo.algorithms import FCISolver"
   ]
  },
  {
   "cell_type": "code",
   "execution_count": null,
   "id": "e3796a64-92e4-4512-b228-8035a3115528",
   "metadata": {},
   "outputs": [],
   "source": [
    "## DMET-CCSD on CaH2, MgH2"
   ]
  },
  {
   "cell_type": "code",
   "execution_count": 46,
   "id": "5ba96bf8-7809-437b-a0ff-3a93e9887f5f",
   "metadata": {},
   "outputs": [],
   "source": [
    "#approximate CaH2 structure by taking the CaH bond lengths (2.003 Angstroms) and assume linear geometry\n",
    "cah2 = \"\"\"\n",
    "Ca   0.0  0.0  0.0\n",
    "H   0.0  0.0  -2.003\n",
    "H   0.0  0.0  2.003\n",
    "\"\"\"\n",
    "mol_cah2 = SecondQuantizedMolecule(cah2, q=0, spin=0, basis=\"minao\")\n",
    "\n",
    "#approximate MgH2 structure by taking the MgH bond lengths (1.730 Angstroms) and assume linear geometry\n",
    "mgh2 = \"\"\"\n",
    "Mg   0.0  0.0  0.0\n",
    "H   0.0  0.0  -1.730\n",
    "H   0.0  0.0  1.730\n",
    "\"\"\"\n",
    "mol_mgh2 = SecondQuantizedMolecule(mgh2, q=0, spin=0, basis=\"minao\")"
   ]
  },
  {
   "cell_type": "code",
   "execution_count": 47,
   "id": "2be97029-70bb-4c9e-990c-936d8a1cc27c",
   "metadata": {},
   "outputs": [],
   "source": [
    "# Fragment definition = [1, 1, 1] to optimize computation resources, i.e. simulate each atom separately.\n",
    "\n",
    "def DMET_energy(second_quantized_molecule):\n",
    "    options_dmet = {\"molecule\": second_quantized_molecule,\n",
    "                           \"fragment_atoms\": [1,1,1],\n",
    "                           \"fragment_solvers\": \"ccsd\",\n",
    "                           \"verbose\": True\n",
    "                           }\n",
    "    \n",
    "    dmet = DMETProblemDecomposition(options_dmet)\n",
    "    dmet.build()\n",
    "    energy_dmet = dmet.simulate()\n",
    "    print(f\"DMET energy (hartree): \\t {energy_dmet}\")\n",
    "    \n",
    "    ###correlation energy calculation###\n",
    "    energy_hf = dmet.mean_field.e_tot\n",
    "    energy_corr = abs(energy_dmet - energy_hf)\n",
    "    print(f\"Correlation energy (hartree): \\t {energy_corr}\")\n",
    "    # print(f\"Correlation energy (kcal/mol): \\t {627.5*energy_corr_butane}\")"
   ]
  },
  {
   "cell_type": "code",
   "execution_count": 48,
   "id": "a8652490-218f-4e55-94e5-9036abb120f6",
   "metadata": {},
   "outputs": [
    {
     "name": "stdout",
     "output_type": "stream",
     "text": [
      " \tIteration =  1\n",
      " \t----------------\n",
      " \n",
      "\tSCF Occupancy Eigenvalues for Fragment Number : # 0\n",
      "\t[1.14672994 2.        ]\n",
      "\n",
      "\tSCF Occupancy Eigenvalues for Fragment Number : # 1\n",
      "\t[0.42663503 2.         2.         2.         2.         2.\n",
      " 2.        ]\n",
      "\n",
      "\tSCF Occupancy Eigenvalues for Fragment Number : # 2\n",
      "\t[0.42663503 2.         2.         2.         2.         2.\n",
      " 2.        ]\n",
      "\n",
      "\t\tFragment Number : #  1\n",
      "\t\t------------------------\n",
      "\t\tFragment Energy = -200.91948597656193\n",
      "\t\tNumber of Electrons in Fragment = 10.858851090544944\n",
      "\t\tFragment Number : #  2\n",
      "\t\t------------------------\n",
      "\t\tFragment Energy = -3.489941406931463\n",
      "\t\tNumber of Electrons in Fragment = 1.500460240855291\n",
      "\t\tFragment Number : #  3\n",
      "\t\t------------------------\n",
      "\t\tFragment Energy = -3.489941406931462\n",
      "\t\tNumber of Electrons in Fragment = 1.5004602408552894\n",
      " \tIteration =  2\n",
      " \t----------------\n",
      " \n",
      "\tSCF Occupancy Eigenvalues for Fragment Number : # 0\n",
      "\t[1.14672994 2.        ]\n",
      "\n",
      "\tSCF Occupancy Eigenvalues for Fragment Number : # 1\n",
      "\t[0.42663503 2.         2.         2.         2.         2.\n",
      " 2.        ]\n",
      "\n",
      "\tSCF Occupancy Eigenvalues for Fragment Number : # 2\n",
      "\t[0.42663503 2.         2.         2.         2.         2.\n",
      " 2.        ]\n",
      "\n",
      "\t\tFragment Number : #  1\n",
      "\t\t------------------------\n",
      "\t\tFragment Energy = -200.91991232843296\n",
      "\t\tNumber of Electrons in Fragment = 10.859059643157691\n",
      "\t\tFragment Number : #  2\n",
      "\t\t------------------------\n",
      "\t\tFragment Energy = -3.4902839289436702\n",
      "\t\tNumber of Electrons in Fragment = 1.5006379189133228\n",
      "\t\tFragment Number : #  3\n",
      "\t\t------------------------\n",
      "\t\tFragment Energy = -3.4902839289436685\n",
      "\t\tNumber of Electrons in Fragment = 1.5006379189133212\n",
      " \tIteration =  3\n",
      " \t----------------\n",
      " \n",
      "\tSCF Occupancy Eigenvalues for Fragment Number : # 0\n",
      "\t[1.14672994 2.        ]\n",
      "\n",
      "\tSCF Occupancy Eigenvalues for Fragment Number : # 1\n",
      "\t[0.42663503 2.         2.         2.         2.         2.\n",
      " 2.        ]\n",
      "\n",
      "\tSCF Occupancy Eigenvalues for Fragment Number : # 2\n",
      "\t[0.42663503 2.         2.         2.         2.         2.\n",
      " 2.        ]\n",
      "\n",
      "\t\tFragment Number : #  1\n",
      "\t\t------------------------\n",
      "\t\tFragment Energy = -201.02606600667573\n",
      "\t\tNumber of Electrons in Fragment = 10.911070787217621\n",
      "\t\tFragment Number : #  2\n",
      "\t\t------------------------\n",
      "\t\tFragment Energy = -3.5732096313374453\n",
      "\t\tNumber of Electrons in Fragment = 1.543844482442709\n",
      "\t\tFragment Number : #  3\n",
      "\t\t------------------------\n",
      "\t\tFragment Energy = -3.5732096313379262\n",
      "\t\tNumber of Electrons in Fragment = 1.543844482442961\n",
      " \tIteration =  4\n",
      " \t----------------\n",
      " \n",
      "\tSCF Occupancy Eigenvalues for Fragment Number : # 0\n",
      "\t[1.14672994 2.        ]\n",
      "\n",
      "\tSCF Occupancy Eigenvalues for Fragment Number : # 1\n",
      "\t[0.42663503 2.         2.         2.         2.         2.\n",
      " 2.        ]\n",
      "\n",
      "\tSCF Occupancy Eigenvalues for Fragment Number : # 2\n",
      "\t[0.42663503 2.         2.         2.         2.         2.\n",
      " 2.        ]\n",
      "\n",
      "\t\tFragment Number : #  1\n",
      "\t\t------------------------\n",
      "\t\tFragment Energy = -201.0270215124197\n",
      "\t\tNumber of Electrons in Fragment = 10.911539717160732\n",
      "\t\tFragment Number : #  2\n",
      "\t\t------------------------\n",
      "\t\tFragment Energy = -3.573933721882434\n",
      "\t\tNumber of Electrons in Fragment = 1.5442234518598479\n",
      "\t\tFragment Number : #  3\n",
      "\t\t------------------------\n",
      "\t\tFragment Energy = -3.573933721882437\n",
      "\t\tNumber of Electrons in Fragment = 1.5442234518598486\n",
      " \tIteration =  5\n",
      " \t----------------\n",
      " \n",
      "\tSCF Occupancy Eigenvalues for Fragment Number : # 0\n",
      "\t[1.14672994 2.        ]\n",
      "\n",
      "\tSCF Occupancy Eigenvalues for Fragment Number : # 1\n",
      "\t[0.42663503 2.         2.         2.         2.         2.\n",
      " 2.        ]\n",
      "\n",
      "\tSCF Occupancy Eigenvalues for Fragment Number : # 2\n",
      "\t[0.42663503 2.         2.         2.         2.         2.\n",
      " 2.        ]\n",
      "\n",
      "\t\tFragment Number : #  1\n",
      "\t\t------------------------\n",
      "\t\tFragment Energy = -201.02703193267547\n",
      "\t\tNumber of Electrons in Fragment = 10.911544831145731\n",
      "\t\tFragment Number : #  2\n",
      "\t\t------------------------\n",
      "\t\tFragment Energy = -3.573941616149953\n",
      "\t\tNumber of Electrons in Fragment = 1.5442275836713295\n",
      "\t\tFragment Number : #  3\n",
      "\t\t------------------------\n",
      "\t\tFragment Energy = -3.5739416161497513\n",
      "\t\tNumber of Electrons in Fragment = 1.544227583671223\n",
      " \t*** DMET Cycle Done *** \n",
      " \tDMET Energy ( a.u. ) =   -200.6807870334\n",
      " \tChemical Potential   =      0.0250915408\n",
      "DMET energy (hartree): \t -200.68078703344915\n",
      "Correlation energy (hartree): \t 0.02733828100969049\n"
     ]
    }
   ],
   "source": [
    "DMET_energy(mol_mgh2)"
   ]
  },
  {
   "cell_type": "markdown",
   "id": "513f7ad9-25db-44ff-81eb-a9afd5e06858",
   "metadata": {},
   "source": [
    "## Comparison with FCI, CCSD"
   ]
  },
  {
   "cell_type": "code",
   "execution_count": 49,
   "id": "bd5858c9-cbaf-41e4-b180-0b8beda9bf77",
   "metadata": {},
   "outputs": [],
   "source": [
    "from tangelo import SecondQuantizedMolecule\n",
    "from tangelo.algorithms import FCISolver, CCSDSolver\n",
    "from tangelo.algorithms import VQESolver\n",
    "\n",
    "LiH = [('Li', (0, 0, 0)),('H', (0, 0, 1.5949))] #these triples refer to coordinates\n",
    "mol_LiH = SecondQuantizedMolecule(LiH, q=0, spin=0, basis=\"sto-3g\")\n",
    "mol_LiH_t = SecondQuantizedMolecule(LiH, q=0, spin=2, basis=\"sto-3g\")\n",
    "\n",
    "NH3 = [('N', (0, 0, 0.1)), ('H', (0.94, 0, 0)), ('H', (-0.47, 0.81, 0)), ('H', (-0.47, -0.81, 0))]\n",
    "mol_NH3 = SecondQuantizedMolecule(NH3, q=0, spin=0, basis=\"sto-3g\")\n",
    "mol_NH3_t = SecondQuantizedMolecule(NH3, q=0, spin=2, basis=\"sto-3g\")\n",
    "\n",
    "#Ca->(2.5369,0.155), H -> 2,-0.155), H -> (3.0739,-0.155)\n",
    "CaH2 = [('Ca', (0, 0.155, 0)), ('H', (-0.5369, -0.155, 0)), ('H', (0.5369, -0.155, 0))]\n",
    "mol_CaH2 = SecondQuantizedMolecule(CaH2, q=0, spin=0, basis=\"sto-3g\")\n",
    "mol_CaH2_t = SecondQuantizedMolecule(CaH2, q=0, spin=2, basis=\"sto-3g\")\n",
    "\n",
    "MgH2 = [('Mg', (0, 0, 0)), ('H', (0, 0, -1.730)), ('H', (0, 0, 1.730))]\n",
    "mol_MgH2 = SecondQuantizedMolecule(MgH2, q=0, spin=0, basis=\"sto-3g\")\n",
    "mol_MgH2_t = SecondQuantizedMolecule(MgH2, q=0, spin=2, basis=\"sto-3g\")"
   ]
  },
  {
   "cell_type": "code",
   "execution_count": 50,
   "id": "4ac4f5b0-50a8-486c-a1e0-496edad590f9",
   "metadata": {},
   "outputs": [],
   "source": [
    "def FCI_CCSD(second_quantized_molecule):\n",
    "    fci_solver = FCISolver(second_quantized_molecule)\n",
    "    fci_energy = fci_solver.simulate()\n",
    "    ccsd_solver = CCSDSolver(second_quantized_molecule)\n",
    "    ccsd_energy = ccsd_solver.simulate()\n",
    "    percent_difference = 100*(fci_energy-ccsd_energy)/fci_energy\n",
    "    print(\"FCI energy, CCSD energy, percent_difference:\")\n",
    "    return fci_energy, ccsd_energy, percent_difference"
   ]
  },
  {
   "cell_type": "code",
   "execution_count": 51,
   "id": "2af2014c-54f7-4eec-9e14-91801beba2b2",
   "metadata": {},
   "outputs": [
    {
     "name": "stdout",
     "output_type": "stream",
     "text": [
      "FCI energy, CCSD energy, percent_difference:\n"
     ]
    },
    {
     "data": {
      "text/plain": [
       "(-198.2336730508314, -198.23333717857585, 0.00016943249367912803)"
      ]
     },
     "execution_count": 51,
     "metadata": {},
     "output_type": "execute_result"
    }
   ],
   "source": [
    "FCI_CCSD(mol_MgH2)"
   ]
  },
  {
   "cell_type": "code",
   "execution_count": 52,
   "id": "3dcdbf32-053c-4561-b6de-7e917a2babd0",
   "metadata": {},
   "outputs": [],
   "source": [
    "H10=\"\"\"\n",
    "H          1.6180339887          0.0000000000          0.0000000000\n",
    "H          1.3090169944          0.9510565163          0.0000000000\n",
    "H          0.5000000000          1.5388417686          0.0000000000\n",
    "H         -0.5000000000          1.5388417686          0.0000000000\n",
    "H         -1.3090169944          0.9510565163          0.0000000000\n",
    "H         -1.6180339887          0.0000000000          0.0000000000\n",
    "H         -1.3090169944         -0.9510565163          0.0000000000\n",
    "H         -0.5000000000         -1.5388417686          0.0000000000\n",
    "H          0.5000000000         -1.5388417686          0.0000000000\n",
    "H          1.3090169944         -0.9510565163          0.0000000000\n",
    "\"\"\"\n",
    "\n",
    "mol_h10 = SecondQuantizedMolecule(H10, q=0, spin=0, basis=\"minao\")"
   ]
  },
  {
   "cell_type": "markdown",
   "id": "f7ce22b7-d3bd-4d5f-8853-8583d35055ff",
   "metadata": {},
   "source": [
    "In the example below, we show resource requirements using standard parameters. Please note that other encodings could reduce the required resources, but resources would still be too much for current hardware.\n",
    "\n"
   ]
  },
  {
   "cell_type": "code",
   "execution_count": 53,
   "id": "53ddb887-bf71-41e9-839c-8530ca487d9f",
   "metadata": {},
   "outputs": [],
   "source": [
    "options_h10_vqe = {\"molecule\": mol_h10, \"qubit_mapping\": \"jw\", \"verbose\": False}\n",
    "vqe_h10 = VQESolver(options_h10_vqe)\n",
    "vqe_h10.build()"
   ]
  },
  {
   "cell_type": "markdown",
   "id": "e53be706-7f45-4b15-a100-959fe3b120eb",
   "metadata": {},
   "source": [
    "Here are some resources estimation that would be needed for a direct VQE calculation on the initial problem, without DMET: for quantum computers in the NISQ era, tackling this head-on is a daunting task."
   ]
  },
  {
   "cell_type": "code",
   "execution_count": 54,
   "id": "b71c1a8f-b8f9-4e28-b5c3-121d403d7dc6",
   "metadata": {},
   "outputs": [
    {
     "name": "stdout",
     "output_type": "stream",
     "text": [
      "{'qubit_hamiltonian_terms': 4581, 'circuit_width': 20, 'circuit_depth': 40408, 'circuit_2qubit_gates': 35712, 'circuit_var_gates': 2220, 'vqe_variational_parameters': 350}\n"
     ]
    }
   ],
   "source": [
    "resources_h10_vqe = vqe_h10.get_resources()\n",
    "print(resources_h10_vqe)"
   ]
  },
  {
   "cell_type": "markdown",
   "id": "71cc3299-fe52-4244-b6e8-c80eb5a003b9",
   "metadata": {},
   "source": [
    "## 4.2 DMET-VQE"
   ]
  },
  {
   "cell_type": "markdown",
   "id": "4df999fb-af99-4d9e-ab04-73cfe77d0b18",
   "metadata": {},
   "source": [
    "Here, we demonstrate how to perform DMET-VQE calculations using Tangelo package. The aim is to obtain improved results (vs HF energy) when compairing to the Full CI method (without using problem decomposition) and also using a quantum algorithm (VQE)."
   ]
  },
  {
   "cell_type": "code",
   "execution_count": 55,
   "id": "2c080740-ac8a-4064-8f15-7226f87dc288",
   "metadata": {},
   "outputs": [],
   "source": [
    "options_h10_dmet = {\"molecule\": mol_h10,\n",
    "                    \"fragment_atoms\": [1]*10,\n",
    "                    \"fragment_solvers\": \"vqe\",\n",
    "                    \"verbose\": False\n",
    "                    }\n",
    "\n",
    "dmet_h10 = DMETProblemDecomposition(options_h10_dmet)\n",
    "dmet_h10.build()"
   ]
  },
  {
   "cell_type": "markdown",
   "id": "6b87c2c3-f7d6-4d74-b69d-acf3b577ce11",
   "metadata": {},
   "source": [
    "The dmet.build() method creates fragments (10) from the H10 molecule. When we decompose the ring of atoms into fragments including only one hydrogen atom each, the DMET method creates a fragment orbital (left: the single orbital distribution is shown in both pink and blue, with the colours depicting the phases) and the bath orbital (right: the single orbital distribution of the remaining nine hydrogen atoms is shown in both pink and blue, with the colours depicting the phases).\n",
    "\n",
    "fragment_and_bath_orbitals\n",
    "\n",
    "Resource estimation is done by calling dmet_h10.get_resources(). Here, a list of ten dictionaries is returned and stored in resources_h10_dmet. Each dictionary refers to a fragment. As every fragment is the same in this system (a single hydrogen atom), we only print one"
   ]
  },
  {
   "cell_type": "code",
   "execution_count": 56,
   "id": "f5371aa5-dd1d-4ce4-ab1d-559a41452780",
   "metadata": {},
   "outputs": [
    {
     "name": "stdout",
     "output_type": "stream",
     "text": [
      "{'qubit_hamiltonian_terms': 27, 'circuit_width': 4, 'circuit_depth': 100, 'circuit_2qubit_gates': 64, 'circuit_var_gates': 12, 'vqe_variational_parameters': 2}\n"
     ]
    }
   ],
   "source": [
    "resources_h10_dmet = dmet_h10.get_resources()\n",
    "print(resources_h10_dmet[0])"
   ]
  },
  {
   "cell_type": "markdown",
   "id": "9cb2cbb8-c7cb-4c71-85fb-7df89e34813c",
   "metadata": {},
   "source": [
    "Compared to a direct VQE algorithm, those resources are greatly reduced: from 20 qubits down to only 4 qubits in our case. Below, dmet_h10.simulate() computes the DMET-VQE energy.\n",
    "\n",
    "The options currently selected specify that VQE must be run for each fragment, at each iteration of DMET: as such, it may take 2-3 minutes for this cell to finish. The verbose option is turned off to hide the lengthy prints: feel free to turn it back on to track the progress of this cell, if you'd like."
   ]
  },
  {
   "cell_type": "code",
   "execution_count": 57,
   "id": "1c35f2e2-53e9-4da8-bfe9-fe24f7f8423a",
   "metadata": {},
   "outputs": [
    {
     "name": "stdout",
     "output_type": "stream",
     "text": [
      "DMET energy (hartree): \t -5.367523534265679\n"
     ]
    }
   ],
   "source": [
    "dmet_h10.verbose = False\n",
    "energy_h10_dmet = dmet_h10.simulate()\n",
    "\n",
    "print(f\"DMET energy (hartree): \\t {energy_h10_dmet}\")"
   ]
  },
  {
   "cell_type": "markdown",
   "id": "c556179f-ca7d-4a88-abff-1175e90b2dcc",
   "metadata": {},
   "source": [
    "A comparison with an FCI calculation is then made."
   ]
  },
  {
   "cell_type": "code",
   "execution_count": 58,
   "id": "1042f947-4f44-4a04-9d99-04a97e756a68",
   "metadata": {},
   "outputs": [
    {
     "name": "stdout",
     "output_type": "stream",
     "text": [
      "FCI energy (hartree): \t -5.3809260007310336\n"
     ]
    }
   ],
   "source": [
    "fci_h10 = FCISolver(mol_h10)\n",
    "energy_h10_fci = fci_h10.simulate()\n",
    "\n",
    "print(f\"FCI energy (hartree): \\t {energy_h10_fci}\")"
   ]
  },
  {
   "cell_type": "markdown",
   "id": "7d624788-953b-4a79-a0ba-8a47603822d5",
   "metadata": {},
   "source": [
    "Lastly, we note that the DMET energy is closer to the FCI energy than the HF energy. DMET-VQE results are an improvement but are still not at the FCI level. This discrepancy is attributable to missing three, four ... many body interactions. When dismantling the system into fragments, we get a single hydrogen atom per fragment. Therefore, those fragments cannot propagate higher level (three and more) excitations. DMET user should have in mind this dilemma between fragment sizes and accuracy of the total electronic energy."
   ]
  },
  {
   "cell_type": "code",
   "execution_count": 59,
   "id": "b87f615f-a6d5-40c0-aed8-7fc1b538f43b",
   "metadata": {},
   "outputs": [
    {
     "name": "stdout",
     "output_type": "stream",
     "text": [
      "Difference FCI vs HF energies (hartree): \t\t 0.11680533556191719\n",
      "Difference FCI vs DMET-VQE energies (hartree): \t\t 0.013402466465354479\n",
      "Difference FCI vs HF energies (kcal/mol): \t\t 73.29534806510304\n",
      "Difference FCI vs DMET-VQE energies (kcal/mol): \t 8.410047707009936\n"
     ]
    }
   ],
   "source": [
    "energy_h10_hf = dmet_h10.mean_field.e_tot\n",
    "delta_h10_fci_hf = abs(energy_h10_fci - energy_h10_hf)\n",
    "delta_h10_fci_dmet = abs(energy_h10_fci - energy_h10_dmet)\n",
    "\n",
    "print(f\"Difference FCI vs HF energies (hartree): \\t\\t {delta_h10_fci_hf}\")\n",
    "print(f\"Difference FCI vs DMET-VQE energies (hartree): \\t\\t {delta_h10_fci_dmet}\")\n",
    "print(f\"Difference FCI vs HF energies (kcal/mol): \\t\\t {627.5*delta_h10_fci_hf}\")\n",
    "print(f\"Difference FCI vs DMET-VQE energies (kcal/mol): \\t {627.5*delta_h10_fci_dmet}\")"
   ]
  },
  {
   "cell_type": "markdown",
   "id": "4aa25e77-46f5-4ff7-9668-6a4a8c253d2f",
   "metadata": {},
   "source": [
    "# Foundations of QDrift"
   ]
  },
  {
   "cell_type": "code",
   "execution_count": 18,
   "id": "18fc1d19-8e4d-4df4-8fda-9ecd4d94ba2c",
   "metadata": {},
   "outputs": [
    {
     "name": "stdout",
     "output_type": "stream",
     "text": [
      "tensor([0.5, 0. , 0. , 0. , 0. , 0. , 0. , 0. , 0. , 0. , 0. , 0. , 0. ,\n",
      "        0. , 0. , 0. , 0. , 0. , 0. , 0. , 0. , 0. , 0. , 0. , 0. , 0. ,\n",
      "        0. , 0. , 0. , 0. , 0. , 0. , 0. , 0. , 0. , 0. , 0. , 0. , 0. ,\n",
      "        0. , 0. , 0. , 0. , 0. , 0. , 0. , 0. , 0. , 0. , 0. , 0. , 0. ,\n",
      "        0. , 0. , 0. , 0. , 0. , 0. , 0. , 0. , 0. , 0. , 0. , 0. , 0. ,\n",
      "        0. , 0. , 0. , 0. , 0. , 0. , 0. , 0. , 0. , 0. , 0. , 0. , 0. ,\n",
      "        0. , 0. , 0. , 0. , 0. , 0. , 0. , 0. , 0. , 0. , 0. , 0. , 0. ,\n",
      "        0. , 0. , 0. , 0. , 0. , 0. , 0. , 0. , 0. , 0. , 0. , 0. , 0. ,\n",
      "        0. , 0. , 0. , 0. , 0. , 0. , 0. , 0. , 0. , 0. , 0. , 0. , 0. ,\n",
      "        0. , 0. , 0. , 0. , 0. , 0. , 0. , 0. , 0. , 0. , 0. , 0. , 0. ,\n",
      "        0. , 0. , 0. , 0. , 0. , 0. , 0. , 0. , 0. , 0. , 0. , 0. , 0. ,\n",
      "        0. , 0. , 0. , 0. , 0. , 0. , 0. , 0. , 0. , 0. , 0. , 0. , 0. ,\n",
      "        0. , 0. , 0. , 0. , 0. , 0. , 0. , 0. , 0. , 0. , 0. , 0. , 0. ,\n",
      "        0. , 0. , 0. , 0. , 0. , 0. , 0. , 0. , 0. , 0. , 0. , 0. , 0. ,\n",
      "        0. , 0. , 0. , 0. , 0. , 0. , 0. , 0. , 0. , 0. , 0. , 0. , 0. ,\n",
      "        0. , 0. , 0. , 0. , 0. , 0. , 0. , 0. , 0. , 0. , 0. , 0. , 0. ,\n",
      "        0. , 0. , 0. , 0. , 0. , 0. , 0. , 0. , 0. , 0. , 0. , 0. , 0. ,\n",
      "        0. , 0. , 0. , 0. , 0. , 0. , 0. , 0. , 0. , 0. , 0. , 0. , 0. ,\n",
      "        0. , 0. , 0. , 0. , 0. , 0. , 0. , 0. , 0. , 0. , 0. , 0. , 0. ,\n",
      "        0. , 0. , 0. , 0. , 0. , 0. , 0. , 0. , 0. , 0. , 0. , 0. , 0. ,\n",
      "        0. , 0. , 0. , 0. , 0. , 0. , 0. , 0. , 0. , 0. , 0. , 0. , 0. ,\n",
      "        0. , 0. , 0. , 0. , 0. , 0. , 0. , 0. , 0. , 0. , 0. , 0. , 0. ,\n",
      "        0. , 0. , 0. , 0. , 0. , 0. , 0. , 0. , 0. , 0. , 0. , 0. , 0. ,\n",
      "        0. , 0. , 0. , 0. , 0. , 0. , 0. , 0. , 0. , 0. , 0. , 0. , 0. ,\n",
      "        0. , 0. , 0. , 0. , 0. , 0. , 0. , 0. , 0. , 0. , 0. , 0. , 0. ,\n",
      "        0. , 0. , 0. , 0. , 0. , 0. , 0. , 0. , 0. , 0. , 0. , 0. , 0. ,\n",
      "        0. , 0. , 0. , 0. , 0. , 0. , 0. , 0. , 0. , 0. , 0. , 0. , 0. ,\n",
      "        0. , 0. , 0. , 0. , 0. , 0. , 0. , 0. , 0. , 0. , 0. , 0. , 0. ,\n",
      "        0. , 0. , 0. , 0. , 0. , 0. , 0. , 0. , 0. , 0. , 0. , 0. , 0. ,\n",
      "        0. , 0. , 0. , 0. , 0. , 0. , 0. , 0. , 0. , 0. , 0. , 0. , 0. ,\n",
      "        0. , 0. , 0. , 0. , 0. , 0. , 0. , 0. , 0. , 0. , 0. , 0. , 0. ,\n",
      "        0. , 0. , 0. , 0. , 0. , 0. , 0. , 0. , 0. , 0. , 0. , 0. , 0. ,\n",
      "        0. , 0. , 0. , 0. , 0. , 0. , 0. , 0. , 0. , 0. , 0. , 0. , 0. ,\n",
      "        0. , 0. , 0. , 0. , 0. , 0. , 0. , 0. , 0. , 0. , 0. , 0. , 0. ,\n",
      "        0. , 0. , 0. , 0. , 0. , 0. , 0. , 0. , 0. , 0. , 0. , 0. , 0. ,\n",
      "        0. , 0. , 0. , 0. , 0. , 0. , 0. , 0. , 0. , 0. , 0. , 0. , 0. ,\n",
      "        0. , 0. , 0. , 0. , 0. , 0. , 0. , 0. , 0. , 0. , 0. , 0. , 0. ,\n",
      "        0. , 0. , 0. , 0. , 0. , 0. , 0. , 0. , 0. , 0. , 0. , 0. , 0. ,\n",
      "        0. , 0. , 0. , 0. , 0. , 0. , 0. , 0. , 0. , 0. , 0. , 0. , 0. ,\n",
      "        0. , 0. , 0. , 0. , 0. , 0.5, 0. , 0. , 0. , 0. , 0. , 0. , 0. ,\n",
      "        0. , 0. , 0. , 0. , 0. , 0. , 0. , 0. , 0. , 0. , 0. , 0. , 0. ,\n",
      "        0. , 0. , 0. , 0. , 0. , 0. , 0. , 0. , 0. , 0. , 0. , 0. , 0. ,\n",
      "        0. , 0. , 0. , 0. , 0. , 0. , 0. , 0. , 0. , 0. , 0. , 0. , 0. ,\n",
      "        0. , 0. , 0. , 0. , 0. , 0. , 0. , 0. , 0. , 0. , 0. , 0. , 0. ,\n",
      "        0. , 0. , 0. , 0. , 0. , 0. , 0. , 0. , 0. , 0. , 0. , 0. , 0. ,\n",
      "        0. , 0. , 0. , 0. , 0. , 0. , 0. , 0. , 0. , 0. , 0. , 0. , 0. ,\n",
      "        0. , 0. , 0. , 0. , 0. , 0. , 0. , 0. , 0. , 0. , 0. , 0. , 0. ,\n",
      "        0. , 0. , 0. , 0. , 0. , 0. , 0. , 0. , 0. , 0. , 0. , 0. , 0. ,\n",
      "        0. , 0. , 0. , 0. , 0. , 0. , 0. , 0. , 0. , 0. , 0. , 0. , 0. ,\n",
      "        0. , 0. , 0. , 0. , 0. , 0. , 0. , 0. , 0. , 0. , 0. , 0. , 0. ,\n",
      "        0. , 0. , 0. , 0. , 0. , 0. , 0. , 0. , 0. , 0. , 0. , 0. , 0. ,\n",
      "        0. , 0. , 0. , 0. , 0. , 0. , 0. , 0. , 0. , 0. , 0. , 0. , 0. ,\n",
      "        0. , 0. , 0. , 0. , 0. , 0. , 0. , 0. , 0. , 0. , 0. , 0. , 0. ,\n",
      "        0. , 0. , 0. , 0. , 0. , 0. , 0. , 0. , 0. , 0. , 0. , 0. , 0. ,\n",
      "        0. , 0. , 0. , 0. , 0. , 0. , 0. , 0. , 0. , 0. , 0. , 0. , 0. ,\n",
      "        0. , 0. , 0. , 0. , 0. , 0. , 0. , 0. , 0. , 0. , 0. , 0. , 0. ,\n",
      "        0. , 0. , 0. , 0. , 0. , 0. , 0. , 0. , 0. , 0. , 0. , 0. , 0. ,\n",
      "        0. , 0. , 0. , 0. , 0. , 0. , 0. , 0. , 0. , 0. , 0. , 0. , 0. ,\n",
      "        0. , 0. , 0. , 0. , 0. , 0. , 0. , 0. , 0. , 0. , 0. , 0. , 0. ,\n",
      "        0. , 0. , 0. , 0. , 0. , 0. , 0. , 0. , 0. , 0. , 0. , 0. , 0. ,\n",
      "        0. , 0. , 0. , 0. , 0. , 0. , 0. , 0. , 0. , 0. , 0. , 0. , 0. ,\n",
      "        0. , 0. , 0. , 0. , 0. , 0. , 0. , 0. , 0. , 0. , 0. , 0. , 0. ,\n",
      "        0. , 0. , 0. , 0. , 0. , 0. , 0. , 0. , 0. , 0. , 0. , 0. , 0. ,\n",
      "        0. , 0. , 0. , 0. , 0. , 0. , 0. , 0. , 0. , 0. , 0. , 0. , 0. ,\n",
      "        0. , 0. , 0. , 0. , 0. , 0. , 0. , 0. , 0. , 0. , 0. , 0. , 0. ,\n",
      "        0. , 0. , 0. , 0. , 0. , 0. , 0. , 0. , 0. , 0. , 0. , 0. , 0. ,\n",
      "        0. , 0. , 0. , 0. , 0. , 0. , 0. , 0. , 0. , 0. , 0. , 0. , 0. ,\n",
      "        0. , 0. , 0. , 0. , 0. , 0. , 0. , 0. , 0. , 0. , 0. , 0. , 0. ,\n",
      "        0. , 0. , 0. , 0. , 0. , 0. , 0. , 0. , 0. , 0. , 0. , 0. , 0. ,\n",
      "        0. , 0. , 0. , 0. , 0. , 0. , 0. , 0. , 0. , 0. , 0. , 0. , 0. ,\n",
      "        0. , 0. , 0. , 0. , 0. , 0. , 0. , 0. , 0. , 0. , 0. , 0. , 0. ,\n",
      "        0. , 0. , 0. , 0. , 0. , 0. , 0. , 0. , 0. , 0. , 0. , 0. , 0. ,\n",
      "        0. , 0. , 0. , 0. , 0. , 0. , 0. , 0. , 0. , 0. , 0. , 0. , 0. ,\n",
      "        0. , 0. , 0. , 0. , 0. , 0. , 0. , 0. , 0. , 0. , 0. , 0. , 0. ,\n",
      "        0. , 0. , 0. , 0. , 0. , 0. , 0. , 0. , 0. , 0. , 0. , 0. , 0. ,\n",
      "        0. , 0. , 0. , 0. , 0. , 0. , 0. , 0. , 0. , 0. , 0. , 0. , 0. ,\n",
      "        0. , 0. , 0. , 0. , 0. , 0. , 0. , 0. , 0. , 0. , 0. , 0. , 0. ,\n",
      "        0. , 0. , 0. , 0. , 0. , 0. , 0. , 0. , 0. , 0. , 0. , 0. , 0. ,\n",
      "        0. , 0. , 0. , 0. , 0. , 0. , 0. , 0. , 0. , 0. ], requires_grad=True)\n"
     ]
    }
   ],
   "source": [
    "import numpy\n",
    "from pprint import pprint\n",
    "import pennylane as qml\n",
    "numpy.set_printoptions(threshold=10_000)\n",
    "\n",
    "LiH_qml_hamiltonian = qml.qchem.import_operator(LiH_gnd_hamiltonian)\n",
    "\n",
    "#some initial state can be used as input using hadamard as sub like in test\n",
    "dev = qml.device(\"default.qubit\", wires=10)\n",
    "@qml.qnode(dev)\n",
    "def buildQDrift(H):    \n",
    "    qml.Hadamard(0)\n",
    "    qml.QDrift(H, 1, n=5) # n == number of expoenentiaed terms\n",
    "    return qml.probs()\n",
    "pprint(buildQDrift(LiH_qml_hamiltonian))"
   ]
  }
 ],
 "metadata": {
  "kernelspec": {
   "display_name": "Python 3 [Default]",
   "language": "python",
   "name": "python3"
  },
  "language_info": {
   "codemirror_mode": {
    "name": "ipython",
    "version": 3
   },
   "file_extension": ".py",
   "mimetype": "text/x-python",
   "name": "python",
   "nbconvert_exporter": "python",
   "pygments_lexer": "ipython3",
   "version": "3.11.9"
  }
 },
 "nbformat": 4,
 "nbformat_minor": 5
}
